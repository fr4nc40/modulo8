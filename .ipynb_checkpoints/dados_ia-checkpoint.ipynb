{
 "cells": [
  {
   "cell_type": "code",
   "execution_count": 1,
   "metadata": {
    "id": "yMEjSMfXAlvl"
   },
   "outputs": [],
   "source": [
    "import seaborn as sns\n",
    "import pandas as pd\n",
    "import matplotlib.pyplot as plt"
   ]
  },
  {
   "cell_type": "code",
   "execution_count": 2,
   "metadata": {
    "colab": {
     "base_uri": "https://localhost:8080/"
    },
    "id": "_WYBRbEiB6d3",
    "outputId": "a86c6287-e417-40b9-d2b3-3bb05a4631d4"
   },
   "outputs": [
    {
     "name": "stdout",
     "output_type": "stream",
     "text": [
      "dados.xlsx\n",
      "dados_ia.ipynb\n",
      "data.csv\n",
      "dtfinal.csv\n"
     ]
    }
   ],
   "source": [
    "!ls "
   ]
  },
  {
   "cell_type": "code",
   "execution_count": 50,
   "metadata": {
    "id": "Zjvw_GCgAlvr"
   },
   "outputs": [],
   "source": [
    "dt = pd.read_csv('dtfinal1.csv', sep=\";\",encoding = 'unicode_escape')"
   ]
  },
  {
   "cell_type": "code",
   "execution_count": 29,
   "metadata": {
    "colab": {
     "base_uri": "https://localhost:8080/",
     "height": 204
    },
    "id": "AqjwLmZaCv8c",
    "outputId": "38d3273a-4e79-4655-9f2e-2d41bf8f3764"
   },
   "outputs": [
    {
     "data": {
      "text/html": [
       "<div>\n",
       "<style scoped>\n",
       "    .dataframe tbody tr th:only-of-type {\n",
       "        vertical-align: middle;\n",
       "    }\n",
       "\n",
       "    .dataframe tbody tr th {\n",
       "        vertical-align: top;\n",
       "    }\n",
       "\n",
       "    .dataframe thead th {\n",
       "        text-align: right;\n",
       "    }\n",
       "</style>\n",
       "<table border=\"1\" class=\"dataframe\">\n",
       "  <thead>\n",
       "    <tr style=\"text-align: right;\">\n",
       "      <th></th>\n",
       "      <th>Endereco</th>\n",
       "      <th>VlrCond</th>\n",
       "      <th>Garagem</th>\n",
       "      <th>Preco</th>\n",
       "      <th>Quarto</th>\n",
       "      <th>M2</th>\n",
       "      <th>Bairro</th>\n",
       "      <th>Cidade</th>\n",
       "      <th>Latitude</th>\n",
       "      <th>Longitude</th>\n",
       "    </tr>\n",
       "  </thead>\n",
       "  <tbody>\n",
       "    <tr>\n",
       "      <th>0</th>\n",
       "      <td>Rua Padre Agostinho 222</td>\n",
       "      <td>0</td>\n",
       "      <td>0</td>\n",
       "      <td>1000.0</td>\n",
       "      <td>1</td>\n",
       "      <td>178</td>\n",
       "      <td>Santa Cruz</td>\n",
       "      <td>Belo Horizonte</td>\n",
       "      <td>-19.881271</td>\n",
       "      <td>-43.9387954</td>\n",
       "    </tr>\n",
       "    <tr>\n",
       "      <th>1</th>\n",
       "      <td>Rua Alvarenga Peixoto</td>\n",
       "      <td>1100</td>\n",
       "      <td>2</td>\n",
       "      <td>10000.0</td>\n",
       "      <td>4</td>\n",
       "      <td>395</td>\n",
       "      <td>Lourdes</td>\n",
       "      <td>Belo Horizonte</td>\n",
       "      <td>-19.929576</td>\n",
       "      <td>-43.9494157</td>\n",
       "    </tr>\n",
       "    <tr>\n",
       "      <th>2</th>\n",
       "      <td>Rua Tome de Souza</td>\n",
       "      <td>0</td>\n",
       "      <td>0</td>\n",
       "      <td>10000.0</td>\n",
       "      <td>1</td>\n",
       "      <td>420</td>\n",
       "      <td>Savassi</td>\n",
       "      <td>Belo Horizonte</td>\n",
       "      <td>-19.9388244</td>\n",
       "      <td>-43.9274451</td>\n",
       "    </tr>\n",
       "    <tr>\n",
       "      <th>3</th>\n",
       "      <td>Avenida Augusto de Lima 655</td>\n",
       "      <td>0</td>\n",
       "      <td>0</td>\n",
       "      <td>100000.0</td>\n",
       "      <td>1</td>\n",
       "      <td>32</td>\n",
       "      <td>Barro Preto</td>\n",
       "      <td>Belo Horizonte</td>\n",
       "      <td>-19.9230616</td>\n",
       "      <td>-43.9441556</td>\n",
       "    </tr>\n",
       "    <tr>\n",
       "      <th>4</th>\n",
       "      <td>Avenida Amazonas 314</td>\n",
       "      <td>0</td>\n",
       "      <td>0</td>\n",
       "      <td>100000.0</td>\n",
       "      <td>1</td>\n",
       "      <td>24</td>\n",
       "      <td>Centro</td>\n",
       "      <td>Belo Horizonte</td>\n",
       "      <td>-19.9379439</td>\n",
       "      <td>-43.9991336</td>\n",
       "    </tr>\n",
       "  </tbody>\n",
       "</table>\n",
       "</div>"
      ],
      "text/plain": [
       "                      Endereco  VlrCond Garagem     Preco Quarto   M2  \\\n",
       "0      Rua Padre Agostinho 222        0       0    1000.0      1  178   \n",
       "1        Rua Alvarenga Peixoto     1100       2   10000.0      4  395   \n",
       "2            Rua Tome de Souza        0       0   10000.0      1  420   \n",
       "3  Avenida Augusto de Lima 655        0       0  100000.0      1   32   \n",
       "4         Avenida Amazonas 314        0       0  100000.0      1   24   \n",
       "\n",
       "        Bairro          Cidade     Latitude    Longitude  \n",
       "0   Santa Cruz  Belo Horizonte   -19.881271  -43.9387954  \n",
       "1      Lourdes  Belo Horizonte   -19.929576  -43.9494157  \n",
       "2      Savassi  Belo Horizonte  -19.9388244  -43.9274451  \n",
       "3  Barro Preto  Belo Horizonte  -19.9230616  -43.9441556  \n",
       "4       Centro  Belo Horizonte  -19.9379439  -43.9991336  "
      ]
     },
     "execution_count": 29,
     "metadata": {},
     "output_type": "execute_result"
    }
   ],
   "source": [
    "dt.head()"
   ]
  },
  {
   "cell_type": "code",
   "execution_count": 30,
   "metadata": {
    "id": "V43CL66UAlvs"
   },
   "outputs": [],
   "source": [
    "correlacao =  dt.corr()"
   ]
  },
  {
   "cell_type": "code",
   "execution_count": 31,
   "metadata": {
    "colab": {
     "base_uri": "https://localhost:8080/",
     "height": 204
    },
    "id": "6dTG5NG7JJk0",
    "outputId": "925cc42a-4038-4fdd-df2e-5a29fc9e1c53"
   },
   "outputs": [
    {
     "data": {
      "text/html": [
       "<div>\n",
       "<style scoped>\n",
       "    .dataframe tbody tr th:only-of-type {\n",
       "        vertical-align: middle;\n",
       "    }\n",
       "\n",
       "    .dataframe tbody tr th {\n",
       "        vertical-align: top;\n",
       "    }\n",
       "\n",
       "    .dataframe thead th {\n",
       "        text-align: right;\n",
       "    }\n",
       "</style>\n",
       "<table border=\"1\" class=\"dataframe\">\n",
       "  <thead>\n",
       "    <tr style=\"text-align: right;\">\n",
       "      <th></th>\n",
       "      <th>VlrCond</th>\n",
       "      <th>Preco</th>\n",
       "    </tr>\n",
       "  </thead>\n",
       "  <tbody>\n",
       "    <tr>\n",
       "      <th>VlrCond</th>\n",
       "      <td>1.000000</td>\n",
       "      <td>0.004335</td>\n",
       "    </tr>\n",
       "    <tr>\n",
       "      <th>Preco</th>\n",
       "      <td>0.004335</td>\n",
       "      <td>1.000000</td>\n",
       "    </tr>\n",
       "  </tbody>\n",
       "</table>\n",
       "</div>"
      ],
      "text/plain": [
       "          VlrCond     Preco\n",
       "VlrCond  1.000000  0.004335\n",
       "Preco    0.004335  1.000000"
      ]
     },
     "execution_count": 31,
     "metadata": {},
     "output_type": "execute_result"
    }
   ],
   "source": [
    "correlacao.head()"
   ]
  },
  {
   "cell_type": "code",
   "execution_count": 32,
   "metadata": {
    "id": "B9RoDGR3LhbL"
   },
   "outputs": [],
   "source": [
    "correlacao2 = dt.corr(method ='kendall')"
   ]
  },
  {
   "cell_type": "code",
   "execution_count": 33,
   "metadata": {
    "colab": {
     "base_uri": "https://localhost:8080/",
     "height": 204
    },
    "id": "hwd6JsSKLs4i",
    "outputId": "cc63bd6f-191f-4e7f-a50b-8e94ea285900"
   },
   "outputs": [
    {
     "data": {
      "text/html": [
       "<div>\n",
       "<style scoped>\n",
       "    .dataframe tbody tr th:only-of-type {\n",
       "        vertical-align: middle;\n",
       "    }\n",
       "\n",
       "    .dataframe tbody tr th {\n",
       "        vertical-align: top;\n",
       "    }\n",
       "\n",
       "    .dataframe thead th {\n",
       "        text-align: right;\n",
       "    }\n",
       "</style>\n",
       "<table border=\"1\" class=\"dataframe\">\n",
       "  <thead>\n",
       "    <tr style=\"text-align: right;\">\n",
       "      <th></th>\n",
       "      <th>VlrCond</th>\n",
       "      <th>Preco</th>\n",
       "    </tr>\n",
       "  </thead>\n",
       "  <tbody>\n",
       "    <tr>\n",
       "      <th>VlrCond</th>\n",
       "      <td>1.000000</td>\n",
       "      <td>0.193166</td>\n",
       "    </tr>\n",
       "    <tr>\n",
       "      <th>Preco</th>\n",
       "      <td>0.193166</td>\n",
       "      <td>1.000000</td>\n",
       "    </tr>\n",
       "  </tbody>\n",
       "</table>\n",
       "</div>"
      ],
      "text/plain": [
       "          VlrCond     Preco\n",
       "VlrCond  1.000000  0.193166\n",
       "Preco    0.193166  1.000000"
      ]
     },
     "execution_count": 33,
     "metadata": {},
     "output_type": "execute_result"
    }
   ],
   "source": [
    "correlacao2.head()"
   ]
  },
  {
   "cell_type": "code",
   "execution_count": 34,
   "metadata": {
    "colab": {
     "base_uri": "https://localhost:8080/",
     "height": 286
    },
    "id": "N4g-wh2YAlvt",
    "outputId": "a4ac7cc7-1186-4281-beb4-a961565aa9e5"
   },
   "outputs": [
    {
     "data": {
      "text/plain": [
       "<AxesSubplot:>"
      ]
     },
     "execution_count": 34,
     "metadata": {},
     "output_type": "execute_result"
    },
    {
     "data": {
      "image/png": "[encoded data removed]",
      "text/plain": [
       "<Figure size 432x288 with 2 Axes>"
      ]
     },
     "metadata": {
      "needs_background": "light"
     },
     "output_type": "display_data"
    }
   ],
   "source": [
    "plot = sns.heatmap(correlacao, annot = True, fmt=\".1f\", linewidths=.4)\n",
    "plot"
   ]
  },
  {
   "cell_type": "code",
   "execution_count": 35,
   "metadata": {
    "colab": {
     "base_uri": "https://localhost:8080/",
     "height": 286
    },
    "id": "A21_wP1_MCxv",
    "outputId": "34a3da13-f8ae-4bdc-fe1b-8ada114c4bdf"
   },
   "outputs": [
    {
     "data": {
      "text/plain": [
       "<AxesSubplot:>"
      ]
     },
     "execution_count": 35,
     "metadata": {},
     "output_type": "execute_result"
    },
    {
     "data": {
      "image/png": "[encoded data removed]",
      "text/plain": [
       "<Figure size 432x288 with 2 Axes>"
      ]
     },
     "metadata": {
      "needs_background": "light"
     },
     "output_type": "display_data"
    }
   ],
   "source": [
    "plot = sns.heatmap(correlacao2, annot = True, fmt=\".1f\", linewidths=.6)\n",
    "plot"
   ]
  },
  {
   "cell_type": "code",
   "execution_count": 51,
   "metadata": {
    "id": "o3y0YdEWJiKa"
   },
   "outputs": [],
   "source": [
    "dtlimpo = dt.drop('Bairro', 1)"
   ]
  },
  {
   "cell_type": "code",
   "execution_count": 37,
   "metadata": {
    "colab": {
     "base_uri": "https://localhost:8080/",
     "height": 204
    },
    "id": "wkFRZn_ZOSKR",
    "outputId": "17d459e5-47ac-4ba9-b339-0cb30a36a54a"
   },
   "outputs": [
    {
     "data": {
      "text/html": [
       "<div>\n",
       "<style scoped>\n",
       "    .dataframe tbody tr th:only-of-type {\n",
       "        vertical-align: middle;\n",
       "    }\n",
       "\n",
       "    .dataframe tbody tr th {\n",
       "        vertical-align: top;\n",
       "    }\n",
       "\n",
       "    .dataframe thead th {\n",
       "        text-align: right;\n",
       "    }\n",
       "</style>\n",
       "<table border=\"1\" class=\"dataframe\">\n",
       "  <thead>\n",
       "    <tr style=\"text-align: right;\">\n",
       "      <th></th>\n",
       "      <th>Endereco</th>\n",
       "      <th>VlrCond</th>\n",
       "      <th>Garagem</th>\n",
       "      <th>Preco</th>\n",
       "      <th>Quarto</th>\n",
       "      <th>M2</th>\n",
       "      <th>Cidade</th>\n",
       "      <th>Latitude</th>\n",
       "      <th>Longitude</th>\n",
       "    </tr>\n",
       "  </thead>\n",
       "  <tbody>\n",
       "    <tr>\n",
       "      <th>0</th>\n",
       "      <td>Rua Padre Agostinho 222</td>\n",
       "      <td>0</td>\n",
       "      <td>0</td>\n",
       "      <td>1000.0</td>\n",
       "      <td>1</td>\n",
       "      <td>178</td>\n",
       "      <td>Belo Horizonte</td>\n",
       "      <td>-19.881271</td>\n",
       "      <td>-43.9387954</td>\n",
       "    </tr>\n",
       "    <tr>\n",
       "      <th>1</th>\n",
       "      <td>Rua Alvarenga Peixoto</td>\n",
       "      <td>1100</td>\n",
       "      <td>2</td>\n",
       "      <td>10000.0</td>\n",
       "      <td>4</td>\n",
       "      <td>395</td>\n",
       "      <td>Belo Horizonte</td>\n",
       "      <td>-19.929576</td>\n",
       "      <td>-43.9494157</td>\n",
       "    </tr>\n",
       "    <tr>\n",
       "      <th>2</th>\n",
       "      <td>Rua Tome de Souza</td>\n",
       "      <td>0</td>\n",
       "      <td>0</td>\n",
       "      <td>10000.0</td>\n",
       "      <td>1</td>\n",
       "      <td>420</td>\n",
       "      <td>Belo Horizonte</td>\n",
       "      <td>-19.9388244</td>\n",
       "      <td>-43.9274451</td>\n",
       "    </tr>\n",
       "    <tr>\n",
       "      <th>3</th>\n",
       "      <td>Avenida Augusto de Lima 655</td>\n",
       "      <td>0</td>\n",
       "      <td>0</td>\n",
       "      <td>100000.0</td>\n",
       "      <td>1</td>\n",
       "      <td>32</td>\n",
       "      <td>Belo Horizonte</td>\n",
       "      <td>-19.9230616</td>\n",
       "      <td>-43.9441556</td>\n",
       "    </tr>\n",
       "    <tr>\n",
       "      <th>4</th>\n",
       "      <td>Avenida Amazonas 314</td>\n",
       "      <td>0</td>\n",
       "      <td>0</td>\n",
       "      <td>100000.0</td>\n",
       "      <td>1</td>\n",
       "      <td>24</td>\n",
       "      <td>Belo Horizonte</td>\n",
       "      <td>-19.9379439</td>\n",
       "      <td>-43.9991336</td>\n",
       "    </tr>\n",
       "  </tbody>\n",
       "</table>\n",
       "</div>"
      ],
      "text/plain": [
       "                      Endereco  VlrCond Garagem     Preco Quarto   M2  \\\n",
       "0      Rua Padre Agostinho 222        0       0    1000.0      1  178   \n",
       "1        Rua Alvarenga Peixoto     1100       2   10000.0      4  395   \n",
       "2            Rua Tome de Souza        0       0   10000.0      1  420   \n",
       "3  Avenida Augusto de Lima 655        0       0  100000.0      1   32   \n",
       "4         Avenida Amazonas 314        0       0  100000.0      1   24   \n",
       "\n",
       "           Cidade     Latitude    Longitude  \n",
       "0  Belo Horizonte   -19.881271  -43.9387954  \n",
       "1  Belo Horizonte   -19.929576  -43.9494157  \n",
       "2  Belo Horizonte  -19.9388244  -43.9274451  \n",
       "3  Belo Horizonte  -19.9230616  -43.9441556  \n",
       "4  Belo Horizonte  -19.9379439  -43.9991336  "
      ]
     },
     "execution_count": 37,
     "metadata": {},
     "output_type": "execute_result"
    }
   ],
   "source": [
    "dtlimpo.head()"
   ]
  },
  {
   "cell_type": "code",
   "execution_count": 52,
   "metadata": {
    "id": "ljlrxyRIOaeB"
   },
   "outputs": [],
   "source": [
    "dtlimpo = dtlimpo.drop('Cidade', 1)\n"
   ]
  },
  {
   "cell_type": "code",
   "execution_count": 39,
   "metadata": {
    "colab": {
     "base_uri": "https://localhost:8080/",
     "height": 204
    },
    "id": "e4MXtxzLOg-v",
    "outputId": "3137b5f5-39fd-4211-9516-3700274ce20e"
   },
   "outputs": [
    {
     "data": {
      "text/html": [
       "<div>\n",
       "<style scoped>\n",
       "    .dataframe tbody tr th:only-of-type {\n",
       "        vertical-align: middle;\n",
       "    }\n",
       "\n",
       "    .dataframe tbody tr th {\n",
       "        vertical-align: top;\n",
       "    }\n",
       "\n",
       "    .dataframe thead th {\n",
       "        text-align: right;\n",
       "    }\n",
       "</style>\n",
       "<table border=\"1\" class=\"dataframe\">\n",
       "  <thead>\n",
       "    <tr style=\"text-align: right;\">\n",
       "      <th></th>\n",
       "      <th>Endereco</th>\n",
       "      <th>VlrCond</th>\n",
       "      <th>Garagem</th>\n",
       "      <th>Preco</th>\n",
       "      <th>Quarto</th>\n",
       "      <th>M2</th>\n",
       "      <th>Latitude</th>\n",
       "      <th>Longitude</th>\n",
       "    </tr>\n",
       "  </thead>\n",
       "  <tbody>\n",
       "    <tr>\n",
       "      <th>0</th>\n",
       "      <td>Rua Padre Agostinho 222</td>\n",
       "      <td>0</td>\n",
       "      <td>0</td>\n",
       "      <td>1000.0</td>\n",
       "      <td>1</td>\n",
       "      <td>178</td>\n",
       "      <td>-19.881271</td>\n",
       "      <td>-43.9387954</td>\n",
       "    </tr>\n",
       "    <tr>\n",
       "      <th>1</th>\n",
       "      <td>Rua Alvarenga Peixoto</td>\n",
       "      <td>1100</td>\n",
       "      <td>2</td>\n",
       "      <td>10000.0</td>\n",
       "      <td>4</td>\n",
       "      <td>395</td>\n",
       "      <td>-19.929576</td>\n",
       "      <td>-43.9494157</td>\n",
       "    </tr>\n",
       "    <tr>\n",
       "      <th>2</th>\n",
       "      <td>Rua Tome de Souza</td>\n",
       "      <td>0</td>\n",
       "      <td>0</td>\n",
       "      <td>10000.0</td>\n",
       "      <td>1</td>\n",
       "      <td>420</td>\n",
       "      <td>-19.9388244</td>\n",
       "      <td>-43.9274451</td>\n",
       "    </tr>\n",
       "    <tr>\n",
       "      <th>3</th>\n",
       "      <td>Avenida Augusto de Lima 655</td>\n",
       "      <td>0</td>\n",
       "      <td>0</td>\n",
       "      <td>100000.0</td>\n",
       "      <td>1</td>\n",
       "      <td>32</td>\n",
       "      <td>-19.9230616</td>\n",
       "      <td>-43.9441556</td>\n",
       "    </tr>\n",
       "    <tr>\n",
       "      <th>4</th>\n",
       "      <td>Avenida Amazonas 314</td>\n",
       "      <td>0</td>\n",
       "      <td>0</td>\n",
       "      <td>100000.0</td>\n",
       "      <td>1</td>\n",
       "      <td>24</td>\n",
       "      <td>-19.9379439</td>\n",
       "      <td>-43.9991336</td>\n",
       "    </tr>\n",
       "  </tbody>\n",
       "</table>\n",
       "</div>"
      ],
      "text/plain": [
       "                      Endereco  VlrCond Garagem     Preco Quarto   M2  \\\n",
       "0      Rua Padre Agostinho 222        0       0    1000.0      1  178   \n",
       "1        Rua Alvarenga Peixoto     1100       2   10000.0      4  395   \n",
       "2            Rua Tome de Souza        0       0   10000.0      1  420   \n",
       "3  Avenida Augusto de Lima 655        0       0  100000.0      1   32   \n",
       "4         Avenida Amazonas 314        0       0  100000.0      1   24   \n",
       "\n",
       "      Latitude    Longitude  \n",
       "0   -19.881271  -43.9387954  \n",
       "1   -19.929576  -43.9494157  \n",
       "2  -19.9388244  -43.9274451  \n",
       "3  -19.9230616  -43.9441556  \n",
       "4  -19.9379439  -43.9991336  "
      ]
     },
     "execution_count": 39,
     "metadata": {},
     "output_type": "execute_result"
    }
   ],
   "source": [
    "dtlimpo.head()"
   ]
  },
  {
   "cell_type": "code",
   "execution_count": 40,
   "metadata": {
    "id": "nubwSVqIOrHY"
   },
   "outputs": [],
   "source": [
    "correlacao3 =  dt.corr()"
   ]
  },
  {
   "cell_type": "code",
   "execution_count": 41,
   "metadata": {
    "colab": {
     "base_uri": "https://localhost:8080/",
     "height": 204
    },
    "id": "zpOd5tk5Oy3V",
    "outputId": "02788186-9f53-4c16-bac5-eeb0d5a87522"
   },
   "outputs": [
    {
     "data": {
      "text/html": [
       "<div>\n",
       "<style scoped>\n",
       "    .dataframe tbody tr th:only-of-type {\n",
       "        vertical-align: middle;\n",
       "    }\n",
       "\n",
       "    .dataframe tbody tr th {\n",
       "        vertical-align: top;\n",
       "    }\n",
       "\n",
       "    .dataframe thead th {\n",
       "        text-align: right;\n",
       "    }\n",
       "</style>\n",
       "<table border=\"1\" class=\"dataframe\">\n",
       "  <thead>\n",
       "    <tr style=\"text-align: right;\">\n",
       "      <th></th>\n",
       "      <th>VlrCond</th>\n",
       "      <th>Preco</th>\n",
       "    </tr>\n",
       "  </thead>\n",
       "  <tbody>\n",
       "    <tr>\n",
       "      <th>VlrCond</th>\n",
       "      <td>1.000000</td>\n",
       "      <td>0.004335</td>\n",
       "    </tr>\n",
       "    <tr>\n",
       "      <th>Preco</th>\n",
       "      <td>0.004335</td>\n",
       "      <td>1.000000</td>\n",
       "    </tr>\n",
       "  </tbody>\n",
       "</table>\n",
       "</div>"
      ],
      "text/plain": [
       "          VlrCond     Preco\n",
       "VlrCond  1.000000  0.004335\n",
       "Preco    0.004335  1.000000"
      ]
     },
     "execution_count": 41,
     "metadata": {},
     "output_type": "execute_result"
    }
   ],
   "source": [
    "correlacao3.head()"
   ]
  },
  {
   "cell_type": "code",
   "execution_count": 42,
   "metadata": {
    "colab": {
     "base_uri": "https://localhost:8080/",
     "height": 286
    },
    "id": "HFFjWR2_lWXm",
    "outputId": "afab1444-c347-4b3d-c899-5eca7d86047a"
   },
   "outputs": [
    {
     "data": {
      "text/plain": [
       "<AxesSubplot:>"
      ]
     },
     "execution_count": 42,
     "metadata": {},
     "output_type": "execute_result"
    },
    {
     "data": {
      "image/png": "[encoded data removed]",
      "text/plain": [
       "<Figure size 432x288 with 2 Axes>"
      ]
     },
     "metadata": {
      "needs_background": "light"
     },
     "output_type": "display_data"
    }
   ],
   "source": [
    "plot = sns.heatmap(correlacao3, annot = True, fmt=\".1f\", linewidths=.6)\n",
    "plot"
   ]
  },
  {
   "cell_type": "code",
   "execution_count": 43,
   "metadata": {
    "colab": {
     "base_uri": "https://localhost:8080/"
    },
    "id": "MAt80mqQO8K2",
    "outputId": "cd418edb-c938-4545-96d1-7c6aedd0dc28"
   },
   "outputs": [
    {
     "data": {
      "text/plain": [
       "Endereco      object\n",
       "VlrCond        int64\n",
       "Garagem       object\n",
       "Preco        float64\n",
       "Quarto        object\n",
       "M2            object\n",
       "Bairro        object\n",
       "Cidade        object\n",
       "Latitude      object\n",
       "Longitude     object\n",
       "dtype: object"
      ]
     },
     "execution_count": 43,
     "metadata": {},
     "output_type": "execute_result"
    }
   ],
   "source": [
    "dt.dtypes"
   ]
  },
  {
   "cell_type": "code",
   "execution_count": 68,
   "metadata": {},
   "outputs": [],
   "source": [
    "##CORRIGE IDENTAÇCAO LATITUDE\n",
    "dtlimpo['Latitude'] = dtlimpo['Latitude'].replace({' ','.'},inplace=True)"
   ]
  },
  {
   "cell_type": "code",
   "execution_count": 70,
   "metadata": {},
   "outputs": [],
   "source": [
    "##CORRIGE IDENTAÇCAO LATITUDE\n",
    "dtlimpo['Longitude'] = dtlimpo['Longitude'].replace({' ','.'},inplace=True)"
   ]
  },
  {
   "cell_type": "code",
   "execution_count": 71,
   "metadata": {
    "id": "6Qpt691hPnR9"
   },
   "outputs": [],
   "source": [
    "dtlimpo['Latitude'] = dtlimpo['Latitude'].astype('float64')\n",
    "dtlimpo['Longitude'] = dtlimpo['Longitude'].astype('float64')"
   ]
  },
  {
   "cell_type": "code",
   "execution_count": 72,
   "metadata": {},
   "outputs": [
    {
     "data": {
      "text/plain": [
       "Endereco      object\n",
       "VlrCond        int64\n",
       "Garagem       object\n",
       "Preco        float64\n",
       "Quarto        object\n",
       "M2            object\n",
       "Latitude     float64\n",
       "Longitude    float64\n",
       "dtype: object"
      ]
     },
     "execution_count": 72,
     "metadata": {},
     "output_type": "execute_result"
    }
   ],
   "source": [
    "dtlimpo.dtypes"
   ]
  },
  {
   "cell_type": "code",
   "execution_count": 23,
   "metadata": {
    "colab": {
     "base_uri": "https://localhost:8080/"
    },
    "id": "3lNABxSPiy0P",
    "outputId": "fd897a57-ee38-4a3d-e540-b354e8cbaa98"
   },
   "outputs": [
    {
     "name": "stdout",
     "output_type": "stream",
     "text": [
      "Collecting geopandas\n",
      "  Downloading geopandas-0.10.2-py2.py3-none-any.whl (1.0 MB)\n",
      "Collecting shapely>=1.6\n",
      "  Downloading Shapely-1.8.0-cp38-cp38-win_amd64.whl (1.1 MB)\n",
      "Collecting fiona>=1.8\n",
      "  Downloading Fiona-1.8.20.tar.gz (1.3 MB)\n",
      "  Preparing metadata (setup.py): started\n",
      "  Preparing metadata (setup.py): finished with status 'error'\n",
      "  Downloading Fiona-1.8.19.tar.gz (1.3 MB)\n",
      "  Preparing metadata (setup.py): started\n",
      "  Preparing metadata (setup.py): finished with status 'error'\n",
      "  Downloading Fiona-1.8.18.tar.gz (1.3 MB)\n",
      "  Preparing metadata (setup.py): started\n",
      "  Preparing metadata (setup.py): finished with status 'error'\n",
      "  Downloading Fiona-1.8.17.tar.gz (1.3 MB)\n",
      "  Preparing metadata (setup.py): started\n",
      "  Preparing metadata (setup.py): finished with status 'error'\n",
      "  Downloading Fiona-1.8.16.tar.gz (1.3 MB)\n",
      "  Preparing metadata (setup.py): started\n",
      "  Preparing metadata (setup.py): finished with status 'error'\n",
      "  Downloading Fiona-1.8.15.tar.gz (1.3 MB)\n",
      "  Preparing metadata (setup.py): started\n",
      "  Preparing metadata (setup.py): finished with status 'error'\n",
      "  Downloading Fiona-1.8.14.tar.gz (1.3 MB)\n",
      "  Preparing metadata (setup.py): started\n",
      "  Preparing metadata (setup.py): finished with status 'error'\n",
      "  Downloading Fiona-1.8.13.post1.tar.gz (1.2 MB)\n",
      "  Preparing metadata (setup.py): started\n",
      "  Preparing metadata (setup.py): finished with status 'error'\n",
      "  Downloading Fiona-1.8.13.tar.gz (1.2 MB)\n",
      "  Preparing metadata (setup.py): started\n",
      "  Preparing metadata (setup.py): finished with status 'error'\n"
     ]
    },
    {
     "name": "stderr",
     "output_type": "stream",
     "text": [
      "WARNING: Ignoring invalid distribution -rllib3 (c:\\programdata\\anaconda3_ok\\lib\\site-packages)\n",
      "WARNING: Ignoring invalid distribution - (c:\\programdata\\anaconda3_ok\\lib\\site-packages)\n",
      "WARNING: Ignoring invalid distribution -rllib3 (c:\\programdata\\anaconda3_ok\\lib\\site-packages)\n",
      "WARNING: Ignoring invalid distribution - (c:\\programdata\\anaconda3_ok\\lib\\site-packages)\n",
      "  ERROR: Command errored out with exit status 1:\n",
      "   command: 'C:\\ProgramData\\Anaconda3_ok\\python.exe' -c 'import io, os, sys, setuptools, tokenize; sys.argv[0] = '\"'\"'C:\\\\Users\\\\13103\\\\AppData\\\\Local\\\\Temp\\\\pip-install-4fwk62qo\\\\fiona_7702dcb976334af893dd487466c69903\\\\setup.py'\"'\"'; __file__='\"'\"'C:\\\\Users\\\\13103\\\\AppData\\\\Local\\\\Temp\\\\pip-install-4fwk62qo\\\\fiona_7702dcb976334af893dd487466c69903\\\\setup.py'\"'\"';f = getattr(tokenize, '\"'\"'open'\"'\"', open)(__file__) if os.path.exists(__file__) else io.StringIO('\"'\"'from setuptools import setup; setup()'\"'\"');code = f.read().replace('\"'\"'\\r\\n'\"'\"', '\"'\"'\\n'\"'\"');f.close();exec(compile(code, __file__, '\"'\"'exec'\"'\"'))' egg_info --egg-base 'C:\\Users\\13103\\AppData\\Local\\Temp\\pip-pip-egg-info-_xiupgu2'\n",
      "       cwd: C:\\Users\\13103\\AppData\\Local\\Temp\\pip-install-4fwk62qo\\fiona_7702dcb976334af893dd487466c69903\\\n",
      "  Complete output (1 lines):\n",
      "  A GDAL API version must be specified. Provide a path to gdal-config using a GDAL_CONFIG environment variable or use a GDAL_VERSION environment variable.\n",
      "  ----------------------------------------\n",
      "WARNING: Discarding https://files.pythonhosted.org/packages/ec/f7/093890341a7e8fbfcdfa04caf4dfb588ebab32c13ceaa6a3819da79ea106/Fiona-1.8.20.tar.gz#sha256=a70502d2857b82f749c09cb0dea3726787747933a2a1599b5ab787d74e3c143b (from https://pypi.org/simple/fiona/). Command errored out with exit status 1: python setup.py egg_info Check the logs for full command output.\n",
      "  ERROR: Command errored out with exit status 1:\n",
      "   command: 'C:\\ProgramData\\Anaconda3_ok\\python.exe' -c 'import io, os, sys, setuptools, tokenize; sys.argv[0] = '\"'\"'C:\\\\Users\\\\13103\\\\AppData\\\\Local\\\\Temp\\\\pip-install-4fwk62qo\\\\fiona_508c7f1c6a5e44edad919c120982e83f\\\\setup.py'\"'\"'; __file__='\"'\"'C:\\\\Users\\\\13103\\\\AppData\\\\Local\\\\Temp\\\\pip-install-4fwk62qo\\\\fiona_508c7f1c6a5e44edad919c120982e83f\\\\setup.py'\"'\"';f = getattr(tokenize, '\"'\"'open'\"'\"', open)(__file__) if os.path.exists(__file__) else io.StringIO('\"'\"'from setuptools import setup; setup()'\"'\"');code = f.read().replace('\"'\"'\\r\\n'\"'\"', '\"'\"'\\n'\"'\"');f.close();exec(compile(code, __file__, '\"'\"'exec'\"'\"'))' egg_info --egg-base 'C:\\Users\\13103\\AppData\\Local\\Temp\\pip-pip-egg-info-mx_r452y'\n",
      "       cwd: C:\\Users\\13103\\AppData\\Local\\Temp\\pip-install-4fwk62qo\\fiona_508c7f1c6a5e44edad919c120982e83f\\\n",
      "  Complete output (1 lines):\n",
      "  A GDAL API version must be specified. Provide a path to gdal-config using a GDAL_CONFIG environment variable or use a GDAL_VERSION environment variable.\n",
      "  ----------------------------------------\n",
      "WARNING: Discarding https://files.pythonhosted.org/packages/a0/d9/6042aeb073d11341f7726de0586ff71c13117c34959dcf07bd4ee6d4b93e/Fiona-1.8.19.tar.gz#sha256=b9059e0b29c2e9e6b817e53f941e77e1aca7075f986005d38db307067b60458f (from https://pypi.org/simple/fiona/). Command errored out with exit status 1: python setup.py egg_info Check the logs for full command output.\n",
      "  ERROR: Command errored out with exit status 1:\n",
      "   command: 'C:\\ProgramData\\Anaconda3_ok\\python.exe' -c 'import io, os, sys, setuptools, tokenize; sys.argv[0] = '\"'\"'C:\\\\Users\\\\13103\\\\AppData\\\\Local\\\\Temp\\\\pip-install-4fwk62qo\\\\fiona_e18ec39f61894450847c0149fca01b45\\\\setup.py'\"'\"'; __file__='\"'\"'C:\\\\Users\\\\13103\\\\AppData\\\\Local\\\\Temp\\\\pip-install-4fwk62qo\\\\fiona_e18ec39f61894450847c0149fca01b45\\\\setup.py'\"'\"';f = getattr(tokenize, '\"'\"'open'\"'\"', open)(__file__) if os.path.exists(__file__) else io.StringIO('\"'\"'from setuptools import setup; setup()'\"'\"');code = f.read().replace('\"'\"'\\r\\n'\"'\"', '\"'\"'\\n'\"'\"');f.close();exec(compile(code, __file__, '\"'\"'exec'\"'\"'))' egg_info --egg-base 'C:\\Users\\13103\\AppData\\Local\\Temp\\pip-pip-egg-info-qyyxyjj5'\n",
      "       cwd: C:\\Users\\13103\\AppData\\Local\\Temp\\pip-install-4fwk62qo\\fiona_e18ec39f61894450847c0149fca01b45\\\n",
      "  Complete output (1 lines):\n",
      "  A GDAL API version must be specified. Provide a path to gdal-config using a GDAL_CONFIG environment variable or use a GDAL_VERSION environment variable.\n",
      "  ----------------------------------------\n",
      "WARNING: Discarding https://files.pythonhosted.org/packages/9f/e8/401cdaa58d862a25c4b3365acf7d2bd7ac77191e3dc9acdcdac0eff20ff0/Fiona-1.8.18.tar.gz#sha256=b732ece0ff8886a29c439723a3e1fc382718804bb057519d537a81308854967a (from https://pypi.org/simple/fiona/). Command errored out with exit status 1: python setup.py egg_info Check the logs for full command output.\n",
      "  ERROR: Command errored out with exit status 1:\n",
      "   command: 'C:\\ProgramData\\Anaconda3_ok\\python.exe' -c 'import io, os, sys, setuptools, tokenize; sys.argv[0] = '\"'\"'C:\\\\Users\\\\13103\\\\AppData\\\\Local\\\\Temp\\\\pip-install-4fwk62qo\\\\fiona_feda425f784e44228567c15f8ddfb52c\\\\setup.py'\"'\"'; __file__='\"'\"'C:\\\\Users\\\\13103\\\\AppData\\\\Local\\\\Temp\\\\pip-install-4fwk62qo\\\\fiona_feda425f784e44228567c15f8ddfb52c\\\\setup.py'\"'\"';f = getattr(tokenize, '\"'\"'open'\"'\"', open)(__file__) if os.path.exists(__file__) else io.StringIO('\"'\"'from setuptools import setup; setup()'\"'\"');code = f.read().replace('\"'\"'\\r\\n'\"'\"', '\"'\"'\\n'\"'\"');f.close();exec(compile(code, __file__, '\"'\"'exec'\"'\"'))' egg_info --egg-base 'C:\\Users\\13103\\AppData\\Local\\Temp\\pip-pip-egg-info-c4av7aa3'\n",
      "       cwd: C:\\Users\\13103\\AppData\\Local\\Temp\\pip-install-4fwk62qo\\fiona_feda425f784e44228567c15f8ddfb52c\\\n",
      "  Complete output (1 lines):\n",
      "  A GDAL API version must be specified. Provide a path to gdal-config using a GDAL_CONFIG environment variable or use a GDAL_VERSION environment variable.\n",
      "  ----------------------------------------\n",
      "WARNING: Discarding https://files.pythonhosted.org/packages/88/62/69347ba2c41b526e1953c4cb66d51170b2869808863c03af202ba0121670/Fiona-1.8.17.tar.gz#sha256=716201c21246587f374785bec6d6a20a984fe1f6c2b0e83bf15127eb8f724d0c (from https://pypi.org/simple/fiona/). Command errored out with exit status 1: python setup.py egg_info Check the logs for full command output.\n",
      "  ERROR: Command errored out with exit status 1:\n",
      "   command: 'C:\\ProgramData\\Anaconda3_ok\\python.exe' -c 'import io, os, sys, setuptools, tokenize; sys.argv[0] = '\"'\"'C:\\\\Users\\\\13103\\\\AppData\\\\Local\\\\Temp\\\\pip-install-4fwk62qo\\\\fiona_22df7477f459412ab5d9eae0ae89c6ac\\\\setup.py'\"'\"'; __file__='\"'\"'C:\\\\Users\\\\13103\\\\AppData\\\\Local\\\\Temp\\\\pip-install-4fwk62qo\\\\fiona_22df7477f459412ab5d9eae0ae89c6ac\\\\setup.py'\"'\"';f = getattr(tokenize, '\"'\"'open'\"'\"', open)(__file__) if os.path.exists(__file__) else io.StringIO('\"'\"'from setuptools import setup; setup()'\"'\"');code = f.read().replace('\"'\"'\\r\\n'\"'\"', '\"'\"'\\n'\"'\"');f.close();exec(compile(code, __file__, '\"'\"'exec'\"'\"'))' egg_info --egg-base 'C:\\Users\\13103\\AppData\\Local\\Temp\\pip-pip-egg-info-zfifernj'\n",
      "       cwd: C:\\Users\\13103\\AppData\\Local\\Temp\\pip-install-4fwk62qo\\fiona_22df7477f459412ab5d9eae0ae89c6ac\\\n",
      "  Complete output (1 lines):\n",
      "  A GDAL API version must be specified. Provide a path to gdal-config using a GDAL_CONFIG environment variable or use a GDAL_VERSION environment variable.\n",
      "  ----------------------------------------\n",
      "WARNING: Discarding https://files.pythonhosted.org/packages/1e/60/dfc6115a11338d8aa96cacd8c60635223d9c97d61d556c90acc5dfd663fa/Fiona-1.8.16.tar.gz#sha256=fd6dfb65959becc916e9f6928618bfd59c16cdbc413ece0fbac61489cd11255f (from https://pypi.org/simple/fiona/). Command errored out with exit status 1: python setup.py egg_info Check the logs for full command output.\n",
      "  ERROR: Command errored out with exit status 1:\n",
      "   command: 'C:\\ProgramData\\Anaconda3_ok\\python.exe' -c 'import io, os, sys, setuptools, tokenize; sys.argv[0] = '\"'\"'C:\\\\Users\\\\13103\\\\AppData\\\\Local\\\\Temp\\\\pip-install-4fwk62qo\\\\fiona_4766f88c541441d0806fbbb6d669240e\\\\setup.py'\"'\"'; __file__='\"'\"'C:\\\\Users\\\\13103\\\\AppData\\\\Local\\\\Temp\\\\pip-install-4fwk62qo\\\\fiona_4766f88c541441d0806fbbb6d669240e\\\\setup.py'\"'\"';f = getattr(tokenize, '\"'\"'open'\"'\"', open)(__file__) if os.path.exists(__file__) else io.StringIO('\"'\"'from setuptools import setup; setup()'\"'\"');code = f.read().replace('\"'\"'\\r\\n'\"'\"', '\"'\"'\\n'\"'\"');f.close();exec(compile(code, __file__, '\"'\"'exec'\"'\"'))' egg_info --egg-base 'C:\\Users\\13103\\AppData\\Local\\Temp\\pip-pip-egg-info-92py1qdz'\n",
      "       cwd: C:\\Users\\13103\\AppData\\Local\\Temp\\pip-install-4fwk62qo\\fiona_4766f88c541441d0806fbbb6d669240e\\\n",
      "  Complete output (1 lines):\n",
      "  A GDAL API version must be specified. Provide a path to gdal-config using a GDAL_CONFIG environment variable or use a GDAL_VERSION environment variable.\n",
      "  ----------------------------------------\n",
      "WARNING: Discarding https://files.pythonhosted.org/packages/55/2f/17450ec2c8fcc720a8a3e4d9a383499508475c7cfb90f7eca9fb585ac598/Fiona-1.8.15.tar.gz#sha256=3b1c9b5c834fae2fe947cfaea176db890bc6750d1a6ba9f54d969c19ffcd191e (from https://pypi.org/simple/fiona/). Command errored out with exit status 1: python setup.py egg_info Check the logs for full command output.\n",
      "  ERROR: Command errored out with exit status 1:\n",
      "   command: 'C:\\ProgramData\\Anaconda3_ok\\python.exe' -c 'import io, os, sys, setuptools, tokenize; sys.argv[0] = '\"'\"'C:\\\\Users\\\\13103\\\\AppData\\\\Local\\\\Temp\\\\pip-install-4fwk62qo\\\\fiona_5e38c89edf014b70ab4eb1cb8b641087\\\\setup.py'\"'\"'; __file__='\"'\"'C:\\\\Users\\\\13103\\\\AppData\\\\Local\\\\Temp\\\\pip-install-4fwk62qo\\\\fiona_5e38c89edf014b70ab4eb1cb8b641087\\\\setup.py'\"'\"';f = getattr(tokenize, '\"'\"'open'\"'\"', open)(__file__) if os.path.exists(__file__) else io.StringIO('\"'\"'from setuptools import setup; setup()'\"'\"');code = f.read().replace('\"'\"'\\r\\n'\"'\"', '\"'\"'\\n'\"'\"');f.close();exec(compile(code, __file__, '\"'\"'exec'\"'\"'))' egg_info --egg-base 'C:\\Users\\13103\\AppData\\Local\\Temp\\pip-pip-egg-info-unysbvqa'\n",
      "       cwd: C:\\Users\\13103\\AppData\\Local\\Temp\\pip-install-4fwk62qo\\fiona_5e38c89edf014b70ab4eb1cb8b641087\\\n",
      "  Complete output (1 lines):\n",
      "  A GDAL API version must be specified. Provide a path to gdal-config using a GDAL_CONFIG environment variable or use a GDAL_VERSION environment variable.\n",
      "  ----------------------------------------\n",
      "WARNING: Discarding https://files.pythonhosted.org/packages/5c/fd/5ec54f2d9b3d5dd23dd443fad5630d6b872e2664814c68b856c47e0d65af/Fiona-1.8.14.tar.gz#sha256=6eac038206c89d2cf5f99ea38b81cc228dc21eac5f47870a9a32d453b0007f4d (from https://pypi.org/simple/fiona/). Command errored out with exit status 1: python setup.py egg_info Check the logs for full command output.\n",
      "  ERROR: Command errored out with exit status 1:\n",
      "   command: 'C:\\ProgramData\\Anaconda3_ok\\python.exe' -c 'import io, os, sys, setuptools, tokenize; sys.argv[0] = '\"'\"'C:\\\\Users\\\\13103\\\\AppData\\\\Local\\\\Temp\\\\pip-install-4fwk62qo\\\\fiona_2c3e0b9dabd34cd7abd77f03f998fe32\\\\setup.py'\"'\"'; __file__='\"'\"'C:\\\\Users\\\\13103\\\\AppData\\\\Local\\\\Temp\\\\pip-install-4fwk62qo\\\\fiona_2c3e0b9dabd34cd7abd77f03f998fe32\\\\setup.py'\"'\"';f = getattr(tokenize, '\"'\"'open'\"'\"', open)(__file__) if os.path.exists(__file__) else io.StringIO('\"'\"'from setuptools import setup; setup()'\"'\"');code = f.read().replace('\"'\"'\\r\\n'\"'\"', '\"'\"'\\n'\"'\"');f.close();exec(compile(code, __file__, '\"'\"'exec'\"'\"'))' egg_info --egg-base 'C:\\Users\\13103\\AppData\\Local\\Temp\\pip-pip-egg-info-_dzqkx1s'\n",
      "       cwd: C:\\Users\\13103\\AppData\\Local\\Temp\\pip-install-4fwk62qo\\fiona_2c3e0b9dabd34cd7abd77f03f998fe32\\\n",
      "  Complete output (1 lines):\n",
      "  A GDAL API version must be specified. Provide a path to gdal-config using a GDAL_CONFIG environment variable or use a GDAL_VERSION environment variable.\n",
      "  ----------------------------------------\n",
      "WARNING: Discarding https://files.pythonhosted.org/packages/6d/42/f4a7cac53b28fa70e9a93d0e89a24d33e14826dad6644b699362ad84dde0/Fiona-1.8.13.post1.tar.gz#sha256=1a432bf9fd56f089256c010da009c90d4a795c531a848132c965052185336600 (from https://pypi.org/simple/fiona/). Command errored out with exit status 1: python setup.py egg_info Check the logs for full command output.\n",
      "  ERROR: Command errored out with exit status 1:\n",
      "   command: 'C:\\ProgramData\\Anaconda3_ok\\python.exe' -c 'import io, os, sys, setuptools, tokenize; sys.argv[0] = '\"'\"'C:\\\\Users\\\\13103\\\\AppData\\\\Local\\\\Temp\\\\pip-install-4fwk62qo\\\\fiona_506d99df5c914e2894f2d47418f94d57\\\\setup.py'\"'\"'; __file__='\"'\"'C:\\\\Users\\\\13103\\\\AppData\\\\Local\\\\Temp\\\\pip-install-4fwk62qo\\\\fiona_506d99df5c914e2894f2d47418f94d57\\\\setup.py'\"'\"';f = getattr(tokenize, '\"'\"'open'\"'\"', open)(__file__) if os.path.exists(__file__) else io.StringIO('\"'\"'from setuptools import setup; setup()'\"'\"');code = f.read().replace('\"'\"'\\r\\n'\"'\"', '\"'\"'\\n'\"'\"');f.close();exec(compile(code, __file__, '\"'\"'exec'\"'\"'))' egg_info --egg-base 'C:\\Users\\13103\\AppData\\Local\\Temp\\pip-pip-egg-info-95m164u3'\n",
      "       cwd: C:\\Users\\13103\\AppData\\Local\\Temp\\pip-install-4fwk62qo\\fiona_506d99df5c914e2894f2d47418f94d57\\\n",
      "  Complete output (1 lines):\n",
      "  A GDAL API version must be specified. Provide a path to gdal-config using a GDAL_CONFIG environment variable or use a GDAL_VERSION environment variable.\n",
      "  ----------------------------------------\n",
      "WARNING: Discarding https://files.pythonhosted.org/packages/be/04/31d0a6f03943b1684f32c9b861be40c1fd282468fa6bd54ddf4a774e6b0f/Fiona-1.8.13.tar.gz#sha256=5ec34898c8b983a723fb4e949dd3e0ed7e691c303e51f6bfd61e52ac9ac813ae (from https://pypi.org/simple/fiona/). Command errored out with exit status 1: python setup.py egg_info Check the logs for full command output.\n",
      "  ERROR: Command errored out with exit status 1:\n",
      "   command: 'C:\\ProgramData\\Anaconda3_ok\\python.exe' -c 'import io, os, sys, setuptools, tokenize; sys.argv[0] = '\"'\"'C:\\\\Users\\\\13103\\\\AppData\\\\Local\\\\Temp\\\\pip-install-4fwk62qo\\\\fiona_be3af5b0cbc54dbfa1b1d8c24d6530e5\\\\setup.py'\"'\"'; __file__='\"'\"'C:\\\\Users\\\\13103\\\\AppData\\\\Local\\\\Temp\\\\pip-install-4fwk62qo\\\\fiona_be3af5b0cbc54dbfa1b1d8c24d6530e5\\\\setup.py'\"'\"';f = getattr(tokenize, '\"'\"'open'\"'\"', open)(__file__) if os.path.exists(__file__) else io.StringIO('\"'\"'from setuptools import setup; setup()'\"'\"');code = f.read().replace('\"'\"'\\r\\n'\"'\"', '\"'\"'\\n'\"'\"');f.close();exec(compile(code, __file__, '\"'\"'exec'\"'\"'))' egg_info --egg-base 'C:\\Users\\13103\\AppData\\Local\\Temp\\pip-pip-egg-info-9_diogwr'\n",
      "       cwd: C:\\Users\\13103\\AppData\\Local\\Temp\\pip-install-4fwk62qo\\fiona_be3af5b0cbc54dbfa1b1d8c24d6530e5\\\n",
      "  Complete output (1 lines):\n",
      "  A GDAL API version must be specified. Provide a path to gdal-config using a GDAL_CONFIG environment variable or use a GDAL_VERSION environment variable.\n",
      "  ----------------------------------------\n",
      "WARNING: Discarding https://files.pythonhosted.org/packages/97/d8/feab39987296437fbdc3029fb39752a14355d217d73b93471010b8dd63a3/Fiona-1.8.12.tar.gz#sha256=c9266ddf6ae2a64fcea20014ddf27f800ac07584f2fdb09c2a02f3b3a52e371c (from https://pypi.org/simple/fiona/). Command errored out with exit status 1: python setup.py egg_info Check the logs for full command output.\n"
     ]
    },
    {
     "name": "stdout",
     "output_type": "stream",
     "text": [
      "  Downloading Fiona-1.8.12.tar.gz (1.2 MB)\n",
      "  Preparing metadata (setup.py): started\n",
      "  Preparing metadata (setup.py): finished with status 'error'\n",
      "  Downloading Fiona-1.8.11.tar.gz (1.2 MB)\n",
      "  Preparing metadata (setup.py): started\n",
      "  Preparing metadata (setup.py): finished with status 'error'\n",
      "  Downloading Fiona-1.8.10.tar.gz (1.2 MB)\n",
      "  Preparing metadata (setup.py): started\n",
      "  Preparing metadata (setup.py): finished with status 'error'\n",
      "  Downloading Fiona-1.8.9.post2.tar.gz (1.2 MB)\n",
      "  Preparing metadata (setup.py): started\n",
      "  Preparing metadata (setup.py): finished with status 'error'\n",
      "  Downloading Fiona-1.8.9.post1.tar.gz (1.2 MB)\n",
      "  Preparing metadata (setup.py): started\n",
      "  Preparing metadata (setup.py): finished with status 'error'\n",
      "  Downloading Fiona-1.8.9.tar.gz (1.2 MB)\n",
      "  Preparing metadata (setup.py): started\n",
      "  Preparing metadata (setup.py): finished with status 'error'\n",
      "  Downloading Fiona-1.8.8.tar.gz (1.7 MB)\n",
      "  Preparing metadata (setup.py): started\n",
      "  Preparing metadata (setup.py): finished with status 'error'\n",
      "  Downloading Fiona-1.8.7.tar.gz (1.7 MB)\n",
      "  Preparing metadata (setup.py): started\n",
      "  Preparing metadata (setup.py): finished with status 'error'\n",
      "  Downloading Fiona-1.8.6.tar.gz (1.7 MB)\n",
      "  Preparing metadata (setup.py): started\n",
      "  Preparing metadata (setup.py): finished with status 'error'\n",
      "  Downloading Fiona-1.8.5.tar.gz (1.7 MB)\n",
      "  Preparing metadata (setup.py): started\n",
      "  Preparing metadata (setup.py): finished with status 'error'\n",
      "  Downloading Fiona-1.8.4.tar.gz (1.1 MB)\n",
      "  Preparing metadata (setup.py): started\n",
      "  Preparing metadata (setup.py): finished with status 'error'\n",
      "  Downloading Fiona-1.8.3.tar.gz (1.1 MB)\n",
      "  Preparing metadata (setup.py): started\n",
      "  Preparing metadata (setup.py): finished with status 'error'\n",
      "  Downloading Fiona-1.8.2.tar.gz (1.2 MB)\n",
      "  Preparing metadata (setup.py): started\n",
      "  Preparing metadata (setup.py): finished with status 'error'\n",
      "  Downloading Fiona-1.8.1.tar.gz (1.1 MB)\n",
      "  Preparing metadata (setup.py): started\n",
      "  Preparing metadata (setup.py): finished with status 'error'\n",
      "  Downloading Fiona-1.8.0.tar.gz (1.4 MB)\n",
      "  Preparing metadata (setup.py): started\n",
      "  Preparing metadata (setup.py): finished with status 'error'\n",
      "Collecting geopandas\n",
      "  Downloading geopandas-0.10.1-py2.py3-none-any.whl (1.0 MB)\n",
      "  Downloading geopandas-0.10.0-py2.py3-none-any.whl (1.0 MB)\n",
      "  Downloading geopandas-0.9.0-py2.py3-none-any.whl (994 kB)\n",
      "  Downloading geopandas-0.8.2-py2.py3-none-any.whl (962 kB)\n",
      "Collecting fiona\n",
      "  Downloading Fiona-1.7.13.tar.gz (731 kB)\n",
      "  Preparing metadata (setup.py): started\n",
      "  Preparing metadata (setup.py): finished with status 'done'\n",
      "Collecting pyproj>=2.2.0\n",
      "  Downloading pyproj-3.3.0-cp38-cp38-win_amd64.whl (6.3 MB)\n",
      "Requirement already satisfied: pandas>=0.23.0 in c:\\programdata\\anaconda3_ok\\lib\\site-packages (from geopandas) (1.1.3)\n",
      "Requirement already satisfied: python-dateutil>=2.7.3 in c:\\programdata\\anaconda3_ok\\lib\\site-packages (from pandas>=0.23.0->geopandas) (2.8.1)\n",
      "Requirement already satisfied: pytz>=2017.2 in c:\\programdata\\anaconda3_ok\\lib\\site-packages (from pandas>=0.23.0->geopandas) (2020.1)\n",
      "Requirement already satisfied: numpy>=1.15.4 in c:\\programdata\\anaconda3_ok\\lib\\site-packages (from pandas>=0.23.0->geopandas) (1.19.2)\n",
      "Requirement already satisfied: certifi in c:\\programdata\\anaconda3_ok\\lib\\site-packages (from pyproj>=2.2.0->geopandas) (2020.6.20)\n",
      "Collecting cligj>=0.4\n",
      "  Downloading cligj-0.7.2-py3-none-any.whl (7.1 kB)\n",
      "Collecting click-plugins\n",
      "  Downloading click_plugins-1.1.1-py2.py3-none-any.whl (7.5 kB)\n",
      "Requirement already satisfied: six>=1.7 in c:\\programdata\\anaconda3_ok\\lib\\site-packages (from fiona->geopandas) (1.15.0)\n",
      "Collecting munch\n",
      "  Downloading munch-2.5.0-py2.py3-none-any.whl (10 kB)\n",
      "Requirement already satisfied: click>=4.0 in c:\\programdata\\anaconda3_ok\\lib\\site-packages (from cligj>=0.4->fiona->geopandas) (7.1.2)\n",
      "Building wheels for collected packages: fiona\n",
      "  Building wheel for fiona (setup.py): started\n",
      "  Building wheel for fiona (setup.py): finished with status 'error'\n",
      "  Running setup.py clean for fiona\n",
      "Failed to build fiona\n",
      "Installing collected packages: munch, cligj, click-plugins, shapely, pyproj, fiona, geopandas\n",
      "    Running setup.py install for fiona: started\n",
      "    Running setup.py install for fiona: finished with status 'error'\n"
     ]
    },
    {
     "name": "stderr",
     "output_type": "stream",
     "text": [
      "  ERROR: Command errored out with exit status 1:\n",
      "   command: 'C:\\ProgramData\\Anaconda3_ok\\python.exe' -c 'import io, os, sys, setuptools, tokenize; sys.argv[0] = '\"'\"'C:\\\\Users\\\\13103\\\\AppData\\\\Local\\\\Temp\\\\pip-install-4fwk62qo\\\\fiona_3a27ae0ba3b744759122363a0ab44295\\\\setup.py'\"'\"'; __file__='\"'\"'C:\\\\Users\\\\13103\\\\AppData\\\\Local\\\\Temp\\\\pip-install-4fwk62qo\\\\fiona_3a27ae0ba3b744759122363a0ab44295\\\\setup.py'\"'\"';f = getattr(tokenize, '\"'\"'open'\"'\"', open)(__file__) if os.path.exists(__file__) else io.StringIO('\"'\"'from setuptools import setup; setup()'\"'\"');code = f.read().replace('\"'\"'\\r\\n'\"'\"', '\"'\"'\\n'\"'\"');f.close();exec(compile(code, __file__, '\"'\"'exec'\"'\"'))' egg_info --egg-base 'C:\\Users\\13103\\AppData\\Local\\Temp\\pip-pip-egg-info-3z__5gf5'\n",
      "       cwd: C:\\Users\\13103\\AppData\\Local\\Temp\\pip-install-4fwk62qo\\fiona_3a27ae0ba3b744759122363a0ab44295\\\n",
      "  Complete output (1 lines):\n",
      "  A GDAL API version must be specified. Provide a path to gdal-config using a GDAL_CONFIG environment variable or use a GDAL_VERSION environment variable.\n",
      "  ----------------------------------------\n",
      "WARNING: Discarding https://files.pythonhosted.org/packages/9d/f4/0a0ddc6174c4a93679b5f1dd3535e7ef8989828e6d5f86112de681f8c87b/Fiona-1.8.11.tar.gz#sha256=1e7ca9e051f5bffa1c43c70d573da9ca223fc076b84fa73380614fc02b9eb7f6 (from https://pypi.org/simple/fiona/). Command errored out with exit status 1: python setup.py egg_info Check the logs for full command output.\n",
      "  ERROR: Command errored out with exit status 1:\n",
      "   command: 'C:\\ProgramData\\Anaconda3_ok\\python.exe' -c 'import io, os, sys, setuptools, tokenize; sys.argv[0] = '\"'\"'C:\\\\Users\\\\13103\\\\AppData\\\\Local\\\\Temp\\\\pip-install-4fwk62qo\\\\fiona_9e7e9a4a2e4c401e95ffafb05de1bc62\\\\setup.py'\"'\"'; __file__='\"'\"'C:\\\\Users\\\\13103\\\\AppData\\\\Local\\\\Temp\\\\pip-install-4fwk62qo\\\\fiona_9e7e9a4a2e4c401e95ffafb05de1bc62\\\\setup.py'\"'\"';f = getattr(tokenize, '\"'\"'open'\"'\"', open)(__file__) if os.path.exists(__file__) else io.StringIO('\"'\"'from setuptools import setup; setup()'\"'\"');code = f.read().replace('\"'\"'\\r\\n'\"'\"', '\"'\"'\\n'\"'\"');f.close();exec(compile(code, __file__, '\"'\"'exec'\"'\"'))' egg_info --egg-base 'C:\\Users\\13103\\AppData\\Local\\Temp\\pip-pip-egg-info-97rtx7_r'\n",
      "       cwd: C:\\Users\\13103\\AppData\\Local\\Temp\\pip-install-4fwk62qo\\fiona_9e7e9a4a2e4c401e95ffafb05de1bc62\\\n",
      "  Complete output (1 lines):\n",
      "  A GDAL API version must be specified. Provide a path to gdal-config using a GDAL_CONFIG environment variable or use a GDAL_VERSION environment variable.\n",
      "  ----------------------------------------\n",
      "WARNING: Discarding https://files.pythonhosted.org/packages/13/73/f80b491ed8559326fab202a6d6333a3cd6e8be1e9d782bc6c0d03d476457/Fiona-1.8.10.tar.gz#sha256=ff562eb2f3960e21f8c7f050ddd7f47a763869ea14afc2234a40df72666c6a2c (from https://pypi.org/simple/fiona/). Command errored out with exit status 1: python setup.py egg_info Check the logs for full command output.\n",
      "  ERROR: Command errored out with exit status 1:\n",
      "   command: 'C:\\ProgramData\\Anaconda3_ok\\python.exe' -c 'import io, os, sys, setuptools, tokenize; sys.argv[0] = '\"'\"'C:\\\\Users\\\\13103\\\\AppData\\\\Local\\\\Temp\\\\pip-install-4fwk62qo\\\\fiona_f3cdb90a90e947e8b4d5a8058b0d19c2\\\\setup.py'\"'\"'; __file__='\"'\"'C:\\\\Users\\\\13103\\\\AppData\\\\Local\\\\Temp\\\\pip-install-4fwk62qo\\\\fiona_f3cdb90a90e947e8b4d5a8058b0d19c2\\\\setup.py'\"'\"';f = getattr(tokenize, '\"'\"'open'\"'\"', open)(__file__) if os.path.exists(__file__) else io.StringIO('\"'\"'from setuptools import setup; setup()'\"'\"');code = f.read().replace('\"'\"'\\r\\n'\"'\"', '\"'\"'\\n'\"'\"');f.close();exec(compile(code, __file__, '\"'\"'exec'\"'\"'))' egg_info --egg-base 'C:\\Users\\13103\\AppData\\Local\\Temp\\pip-pip-egg-info-duawf1ls'\n",
      "       cwd: C:\\Users\\13103\\AppData\\Local\\Temp\\pip-install-4fwk62qo\\fiona_f3cdb90a90e947e8b4d5a8058b0d19c2\\\n",
      "  Complete output (1 lines):\n",
      "  A GDAL API version must be specified. Provide a path to gdal-config using a GDAL_CONFIG environment variable or use a GDAL_VERSION environment variable.\n",
      "  ----------------------------------------\n",
      "WARNING: Discarding https://files.pythonhosted.org/packages/9b/52/45e75507660ce0e86176d0f59b659560f687e2c7e9ebf82a10e7dcd2d3b7/Fiona-1.8.9.post2.tar.gz#sha256=210fb038b579fab38f35ddbdd31b9725f4d5099b3edfd4b87c983e5d47b79983 (from https://pypi.org/simple/fiona/). Command errored out with exit status 1: python setup.py egg_info Check the logs for full command output.\n",
      "  ERROR: Command errored out with exit status 1:\n",
      "   command: 'C:\\ProgramData\\Anaconda3_ok\\python.exe' -c 'import io, os, sys, setuptools, tokenize; sys.argv[0] = '\"'\"'C:\\\\Users\\\\13103\\\\AppData\\\\Local\\\\Temp\\\\pip-install-4fwk62qo\\\\fiona_661eaf7ed07846b9a4d6ceccf4bd6234\\\\setup.py'\"'\"'; __file__='\"'\"'C:\\\\Users\\\\13103\\\\AppData\\\\Local\\\\Temp\\\\pip-install-4fwk62qo\\\\fiona_661eaf7ed07846b9a4d6ceccf4bd6234\\\\setup.py'\"'\"';f = getattr(tokenize, '\"'\"'open'\"'\"', open)(__file__) if os.path.exists(__file__) else io.StringIO('\"'\"'from setuptools import setup; setup()'\"'\"');code = f.read().replace('\"'\"'\\r\\n'\"'\"', '\"'\"'\\n'\"'\"');f.close();exec(compile(code, __file__, '\"'\"'exec'\"'\"'))' egg_info --egg-base 'C:\\Users\\13103\\AppData\\Local\\Temp\\pip-pip-egg-info-m0s36fk1'\n",
      "       cwd: C:\\Users\\13103\\AppData\\Local\\Temp\\pip-install-4fwk62qo\\fiona_661eaf7ed07846b9a4d6ceccf4bd6234\\\n",
      "  Complete output (1 lines):\n",
      "  A GDAL API version must be specified. Provide a path to gdal-config using a GDAL_CONFIG environment variable or use a GDAL_VERSION environment variable.\n",
      "  ----------------------------------------\n",
      "WARNING: Discarding https://files.pythonhosted.org/packages/0e/a4/d9dd7399be809d3990f5000fb6ae43189ea26ae88be1bed3a4c9ddc1becc/Fiona-1.8.9.post1.tar.gz#sha256=d5e0ea0b8addffe9cba4cb59e2bd495b015230e7a1b1597974f5048211930199 (from https://pypi.org/simple/fiona/). Command errored out with exit status 1: python setup.py egg_info Check the logs for full command output.\n",
      "  ERROR: Command errored out with exit status 1:\n",
      "   command: 'C:\\ProgramData\\Anaconda3_ok\\python.exe' -c 'import io, os, sys, setuptools, tokenize; sys.argv[0] = '\"'\"'C:\\\\Users\\\\13103\\\\AppData\\\\Local\\\\Temp\\\\pip-install-4fwk62qo\\\\fiona_aa0033e11df242109ceebc0521aece2a\\\\setup.py'\"'\"'; __file__='\"'\"'C:\\\\Users\\\\13103\\\\AppData\\\\Local\\\\Temp\\\\pip-install-4fwk62qo\\\\fiona_aa0033e11df242109ceebc0521aece2a\\\\setup.py'\"'\"';f = getattr(tokenize, '\"'\"'open'\"'\"', open)(__file__) if os.path.exists(__file__) else io.StringIO('\"'\"'from setuptools import setup; setup()'\"'\"');code = f.read().replace('\"'\"'\\r\\n'\"'\"', '\"'\"'\\n'\"'\"');f.close();exec(compile(code, __file__, '\"'\"'exec'\"'\"'))' egg_info --egg-base 'C:\\Users\\13103\\AppData\\Local\\Temp\\pip-pip-egg-info-wrx3mt8s'\n",
      "       cwd: C:\\Users\\13103\\AppData\\Local\\Temp\\pip-install-4fwk62qo\\fiona_aa0033e11df242109ceebc0521aece2a\\\n",
      "  Complete output (1 lines):\n",
      "  A GDAL API version must be specified. Provide a path to gdal-config using a GDAL_CONFIG environment variable or use a GDAL_VERSION environment variable.\n",
      "  ----------------------------------------\n",
      "WARNING: Discarding https://files.pythonhosted.org/packages/ad/92/dcbd8c54d697c22f299b5af63b6df3acfbd06c6d72e249614c05be99337c/Fiona-1.8.9.tar.gz#sha256=4dd6e2f5327c1174143c7c8594a75d373bc72f2c9a2a6daee312c3186a128add (from https://pypi.org/simple/fiona/). Command errored out with exit status 1: python setup.py egg_info Check the logs for full command output.\n",
      "  ERROR: Command errored out with exit status 1:\n",
      "   command: 'C:\\ProgramData\\Anaconda3_ok\\python.exe' -c 'import io, os, sys, setuptools, tokenize; sys.argv[0] = '\"'\"'C:\\\\Users\\\\13103\\\\AppData\\\\Local\\\\Temp\\\\pip-install-4fwk62qo\\\\fiona_a85963ea1cf84d52928fe7fa0a224751\\\\setup.py'\"'\"'; __file__='\"'\"'C:\\\\Users\\\\13103\\\\AppData\\\\Local\\\\Temp\\\\pip-install-4fwk62qo\\\\fiona_a85963ea1cf84d52928fe7fa0a224751\\\\setup.py'\"'\"';f = getattr(tokenize, '\"'\"'open'\"'\"', open)(__file__) if os.path.exists(__file__) else io.StringIO('\"'\"'from setuptools import setup; setup()'\"'\"');code = f.read().replace('\"'\"'\\r\\n'\"'\"', '\"'\"'\\n'\"'\"');f.close();exec(compile(code, __file__, '\"'\"'exec'\"'\"'))' egg_info --egg-base 'C:\\Users\\13103\\AppData\\Local\\Temp\\pip-pip-egg-info-xs81dixf'\n",
      "       cwd: C:\\Users\\13103\\AppData\\Local\\Temp\\pip-install-4fwk62qo\\fiona_a85963ea1cf84d52928fe7fa0a224751\\\n",
      "  Complete output (1 lines):\n",
      "  A GDAL API version must be specified. Provide a path to gdal-config using a GDAL_CONFIG environment variable or use a GDAL_VERSION environment variable.\n",
      "  ----------------------------------------\n",
      "WARNING: Discarding https://files.pythonhosted.org/packages/94/7f/e288db1ad63d759d494c30caae34f865e0c6927588c490705e91b7134193/Fiona-1.8.8.tar.gz#sha256=711c3be73203b37812992089445a1e4e9d3d6b64e667389f7b15406e15a91e83 (from https://pypi.org/simple/fiona/). Command errored out with exit status 1: python setup.py egg_info Check the logs for full command output.\n",
      "  ERROR: Command errored out with exit status 1:\n",
      "   command: 'C:\\ProgramData\\Anaconda3_ok\\python.exe' -c 'import io, os, sys, setuptools, tokenize; sys.argv[0] = '\"'\"'C:\\\\Users\\\\13103\\\\AppData\\\\Local\\\\Temp\\\\pip-install-4fwk62qo\\\\fiona_ec69a7d4f6a245cdbc36b843677ef4d8\\\\setup.py'\"'\"'; __file__='\"'\"'C:\\\\Users\\\\13103\\\\AppData\\\\Local\\\\Temp\\\\pip-install-4fwk62qo\\\\fiona_ec69a7d4f6a245cdbc36b843677ef4d8\\\\setup.py'\"'\"';f = getattr(tokenize, '\"'\"'open'\"'\"', open)(__file__) if os.path.exists(__file__) else io.StringIO('\"'\"'from setuptools import setup; setup()'\"'\"');code = f.read().replace('\"'\"'\\r\\n'\"'\"', '\"'\"'\\n'\"'\"');f.close();exec(compile(code, __file__, '\"'\"'exec'\"'\"'))' egg_info --egg-base 'C:\\Users\\13103\\AppData\\Local\\Temp\\pip-pip-egg-info-plsuh5n8'\n",
      "       cwd: C:\\Users\\13103\\AppData\\Local\\Temp\\pip-install-4fwk62qo\\fiona_ec69a7d4f6a245cdbc36b843677ef4d8\\\n",
      "  Complete output (1 lines):\n",
      "  A GDAL API version must be specified. Provide a path to gdal-config using a GDAL_CONFIG environment variable or use a GDAL_VERSION environment variable.\n",
      "  ----------------------------------------\n",
      "WARNING: Discarding https://files.pythonhosted.org/packages/78/62/daafd070aebefa639df247705b97f13f7cfad43895581b5cae41bd886709/Fiona-1.8.7.tar.gz#sha256=a55a23615bad3e142d4e4cda97bb5de83c778a80049222e9dffae93c13b5cf93 (from https://pypi.org/simple/fiona/). Command errored out with exit status 1: python setup.py egg_info Check the logs for full command output.\n",
      "  ERROR: Command errored out with exit status 1:\n",
      "   command: 'C:\\ProgramData\\Anaconda3_ok\\python.exe' -c 'import io, os, sys, setuptools, tokenize; sys.argv[0] = '\"'\"'C:\\\\Users\\\\13103\\\\AppData\\\\Local\\\\Temp\\\\pip-install-4fwk62qo\\\\fiona_98ea5c3ada534efc93802178b67e5488\\\\setup.py'\"'\"'; __file__='\"'\"'C:\\\\Users\\\\13103\\\\AppData\\\\Local\\\\Temp\\\\pip-install-4fwk62qo\\\\fiona_98ea5c3ada534efc93802178b67e5488\\\\setup.py'\"'\"';f = getattr(tokenize, '\"'\"'open'\"'\"', open)(__file__) if os.path.exists(__file__) else io.StringIO('\"'\"'from setuptools import setup; setup()'\"'\"');code = f.read().replace('\"'\"'\\r\\n'\"'\"', '\"'\"'\\n'\"'\"');f.close();exec(compile(code, __file__, '\"'\"'exec'\"'\"'))' egg_info --egg-base 'C:\\Users\\13103\\AppData\\Local\\Temp\\pip-pip-egg-info-eswi3rhl'\n",
      "       cwd: C:\\Users\\13103\\AppData\\Local\\Temp\\pip-install-4fwk62qo\\fiona_98ea5c3ada534efc93802178b67e5488\\\n",
      "  Complete output (1 lines):\n",
      "  A GDAL API version must be specified. Provide a path to gdal-config using a GDAL_CONFIG environment variable or use a GDAL_VERSION environment variable.\n",
      "  ----------------------------------------\n",
      "WARNING: Discarding https://files.pythonhosted.org/packages/41/9d/63696e7b1de42aad294d4781199a408bec593d8fdb80a2b4a788c911a33b/Fiona-1.8.6.tar.gz#sha256=fa31dfe8855b9cd0b128b47a4df558f1b8eda90d2181bff1dd9854e5556efb3e (from https://pypi.org/simple/fiona/). Command errored out with exit status 1: python setup.py egg_info Check the logs for full command output.\n",
      "  ERROR: Command errored out with exit status 1:\n",
      "   command: 'C:\\ProgramData\\Anaconda3_ok\\python.exe' -c 'import io, os, sys, setuptools, tokenize; sys.argv[0] = '\"'\"'C:\\\\Users\\\\13103\\\\AppData\\\\Local\\\\Temp\\\\pip-install-4fwk62qo\\\\fiona_d39ead07c17946689eb4464386cc92fe\\\\setup.py'\"'\"'; __file__='\"'\"'C:\\\\Users\\\\13103\\\\AppData\\\\Local\\\\Temp\\\\pip-install-4fwk62qo\\\\fiona_d39ead07c17946689eb4464386cc92fe\\\\setup.py'\"'\"';f = getattr(tokenize, '\"'\"'open'\"'\"', open)(__file__) if os.path.exists(__file__) else io.StringIO('\"'\"'from setuptools import setup; setup()'\"'\"');code = f.read().replace('\"'\"'\\r\\n'\"'\"', '\"'\"'\\n'\"'\"');f.close();exec(compile(code, __file__, '\"'\"'exec'\"'\"'))' egg_info --egg-base 'C:\\Users\\13103\\AppData\\Local\\Temp\\pip-pip-egg-info-ih4pw2o1'\n",
      "       cwd: C:\\Users\\13103\\AppData\\Local\\Temp\\pip-install-4fwk62qo\\fiona_d39ead07c17946689eb4464386cc92fe\\\n",
      "  Complete output (1 lines):\n",
      "  A GDAL API version must be specified. Provide a path to gdal-config using a GDAL_CONFIG environment variable or use a GDAL_VERSION environment variable.\n",
      "  ----------------------------------------\n",
      "WARNING: Discarding https://files.pythonhosted.org/packages/7b/af/1c2c83c4a8363a4ce9fea817b1910b5e071bed012e18257faa2a0ab3cfe7/Fiona-1.8.5.tar.gz#sha256=4f5cc2d449edbbf693c83e24cdada72de7c41297383d16fcc92387eb445e9d35 (from https://pypi.org/simple/fiona/). Command errored out with exit status 1: python setup.py egg_info Check the logs for full command output.\n",
      "  ERROR: Command errored out with exit status 1:\n",
      "   command: 'C:\\ProgramData\\Anaconda3_ok\\python.exe' -c 'import io, os, sys, setuptools, tokenize; sys.argv[0] = '\"'\"'C:\\\\Users\\\\13103\\\\AppData\\\\Local\\\\Temp\\\\pip-install-4fwk62qo\\\\fiona_0997f1bebf494ab09c984a1bdaf93b84\\\\setup.py'\"'\"'; __file__='\"'\"'C:\\\\Users\\\\13103\\\\AppData\\\\Local\\\\Temp\\\\pip-install-4fwk62qo\\\\fiona_0997f1bebf494ab09c984a1bdaf93b84\\\\setup.py'\"'\"';f = getattr(tokenize, '\"'\"'open'\"'\"', open)(__file__) if os.path.exists(__file__) else io.StringIO('\"'\"'from setuptools import setup; setup()'\"'\"');code = f.read().replace('\"'\"'\\r\\n'\"'\"', '\"'\"'\\n'\"'\"');f.close();exec(compile(code, __file__, '\"'\"'exec'\"'\"'))' egg_info --egg-base 'C:\\Users\\13103\\AppData\\Local\\Temp\\pip-pip-egg-info-cci2sr6q'\n",
      "       cwd: C:\\Users\\13103\\AppData\\Local\\Temp\\pip-install-4fwk62qo\\fiona_0997f1bebf494ab09c984a1bdaf93b84\\\n",
      "  Complete output (1 lines):\n",
      "  A GDAL API version must be specified. Provide a path to gdal-config using a GDAL_CONFIG environment variable or use a GDAL_VERSION environment variable.\n",
      "  ----------------------------------------\n",
      "WARNING: Discarding https://files.pythonhosted.org/packages/3a/16/84960540e9fce61d767fd2f0f1d95f4c63e99ab5d8fddc308e8b51b059b8/Fiona-1.8.4.tar.gz#sha256=aec9ab2e3513c9503ec123b1a8573bee55fc6a66e2ac07088c3376bf6738a424 (from https://pypi.org/simple/fiona/). Command errored out with exit status 1: python setup.py egg_info Check the logs for full command output.\n",
      "  ERROR: Command errored out with exit status 1:\n",
      "   command: 'C:\\ProgramData\\Anaconda3_ok\\python.exe' -c 'import io, os, sys, setuptools, tokenize; sys.argv[0] = '\"'\"'C:\\\\Users\\\\13103\\\\AppData\\\\Local\\\\Temp\\\\pip-install-4fwk62qo\\\\fiona_e705cb8e97bf48899c49c27d5e246e53\\\\setup.py'\"'\"'; __file__='\"'\"'C:\\\\Users\\\\13103\\\\AppData\\\\Local\\\\Temp\\\\pip-install-4fwk62qo\\\\fiona_e705cb8e97bf48899c49c27d5e246e53\\\\setup.py'\"'\"';f = getattr(tokenize, '\"'\"'open'\"'\"', open)(__file__) if os.path.exists(__file__) else io.StringIO('\"'\"'from setuptools import setup; setup()'\"'\"');code = f.read().replace('\"'\"'\\r\\n'\"'\"', '\"'\"'\\n'\"'\"');f.close();exec(compile(code, __file__, '\"'\"'exec'\"'\"'))' egg_info --egg-base 'C:\\Users\\13103\\AppData\\Local\\Temp\\pip-pip-egg-info-93gb1lzw'\n",
      "       cwd: C:\\Users\\13103\\AppData\\Local\\Temp\\pip-install-4fwk62qo\\fiona_e705cb8e97bf48899c49c27d5e246e53\\\n",
      "  Complete output (1 lines):\n",
      "  A GDAL API version must be specified. Provide a path to gdal-config using a GDAL_CONFIG environment variable or use a GDAL_VERSION environment variable.\n",
      "  ----------------------------------------\n",
      "WARNING: Discarding https://files.pythonhosted.org/packages/46/d1/fcdb32513a03abfde0d97fd9782ce0f8cc0540fa6c6ce783e87b94064964/Fiona-1.8.3.tar.gz#sha256=3e831100a23c3b6cd32b98baf0c9e2119d909b44a5cf4533d3625f61dcf2d2b1 (from https://pypi.org/simple/fiona/). Command errored out with exit status 1: python setup.py egg_info Check the logs for full command output.\n",
      "  ERROR: Command errored out with exit status 1:\n",
      "   command: 'C:\\ProgramData\\Anaconda3_ok\\python.exe' -c 'import io, os, sys, setuptools, tokenize; sys.argv[0] = '\"'\"'C:\\\\Users\\\\13103\\\\AppData\\\\Local\\\\Temp\\\\pip-install-4fwk62qo\\\\fiona_845ee2f9f33747edb14531494e96f3a8\\\\setup.py'\"'\"'; __file__='\"'\"'C:\\\\Users\\\\13103\\\\AppData\\\\Local\\\\Temp\\\\pip-install-4fwk62qo\\\\fiona_845ee2f9f33747edb14531494e96f3a8\\\\setup.py'\"'\"';f = getattr(tokenize, '\"'\"'open'\"'\"', open)(__file__) if os.path.exists(__file__) else io.StringIO('\"'\"'from setuptools import setup; setup()'\"'\"');code = f.read().replace('\"'\"'\\r\\n'\"'\"', '\"'\"'\\n'\"'\"');f.close();exec(compile(code, __file__, '\"'\"'exec'\"'\"'))' egg_info --egg-base 'C:\\Users\\13103\\AppData\\Local\\Temp\\pip-pip-egg-info-h7jko3hy'\n",
      "       cwd: C:\\Users\\13103\\AppData\\Local\\Temp\\pip-install-4fwk62qo\\fiona_845ee2f9f33747edb14531494e96f3a8\\\n",
      "  Complete output (1 lines):\n",
      "  A GDAL API version must be specified. Provide a path to gdal-config using a GDAL_CONFIG environment variable or use a GDAL_VERSION environment variable.\n",
      "  ----------------------------------------\n",
      "WARNING: Discarding https://files.pythonhosted.org/packages/25/50/0466d5d83e1859c5ca38351ee932d64cc5635f9d4dad522879e58f4b0018/Fiona-1.8.2.tar.gz#sha256=4c6419b7ac29136708029f6a44b4ccd458735a4d241016c7b1bab41685c08d8f (from https://pypi.org/simple/fiona/). Command errored out with exit status 1: python setup.py egg_info Check the logs for full command output.\n",
      "  ERROR: Command errored out with exit status 1:\n",
      "   command: 'C:\\ProgramData\\Anaconda3_ok\\python.exe' -c 'import io, os, sys, setuptools, tokenize; sys.argv[0] = '\"'\"'C:\\\\Users\\\\13103\\\\AppData\\\\Local\\\\Temp\\\\pip-install-4fwk62qo\\\\fiona_903c05147f2f490fa142e13537f9d10a\\\\setup.py'\"'\"'; __file__='\"'\"'C:\\\\Users\\\\13103\\\\AppData\\\\Local\\\\Temp\\\\pip-install-4fwk62qo\\\\fiona_903c05147f2f490fa142e13537f9d10a\\\\setup.py'\"'\"';f = getattr(tokenize, '\"'\"'open'\"'\"', open)(__file__) if os.path.exists(__file__) else io.StringIO('\"'\"'from setuptools import setup; setup()'\"'\"');code = f.read().replace('\"'\"'\\r\\n'\"'\"', '\"'\"'\\n'\"'\"');f.close();exec(compile(code, __file__, '\"'\"'exec'\"'\"'))' egg_info --egg-base 'C:\\Users\\13103\\AppData\\Local\\Temp\\pip-pip-egg-info-xg8c7gcn'\n",
      "       cwd: C:\\Users\\13103\\AppData\\Local\\Temp\\pip-install-4fwk62qo\\fiona_903c05147f2f490fa142e13537f9d10a\\\n",
      "  Complete output (1 lines):\n",
      "  A GDAL API version must be specified. Provide a path to gdal-config using a GDAL_CONFIG environment variable or use a GDAL_VERSION environment variable.\n",
      "  ----------------------------------------\n",
      "WARNING: Discarding https://files.pythonhosted.org/packages/3e/5f/0c6704efeea2ff3fba7f54cc6ec38070157f21bc1cffa7bdfa7c9f6b8f7a/Fiona-1.8.1.tar.gz#sha256=4c34bb4c5cd788aaf14e5484c3b7de407b1a8a7c7b2d29bbb2e8b37931e83b8d (from https://pypi.org/simple/fiona/). Command errored out with exit status 1: python setup.py egg_info Check the logs for full command output.\n",
      "  ERROR: Command errored out with exit status 1:\n",
      "   command: 'C:\\ProgramData\\Anaconda3_ok\\python.exe' -c 'import io, os, sys, setuptools, tokenize; sys.argv[0] = '\"'\"'C:\\\\Users\\\\13103\\\\AppData\\\\Local\\\\Temp\\\\pip-install-4fwk62qo\\\\fiona_1e23bbb1742340f0953ebdeee0a0ef86\\\\setup.py'\"'\"'; __file__='\"'\"'C:\\\\Users\\\\13103\\\\AppData\\\\Local\\\\Temp\\\\pip-install-4fwk62qo\\\\fiona_1e23bbb1742340f0953ebdeee0a0ef86\\\\setup.py'\"'\"';f = getattr(tokenize, '\"'\"'open'\"'\"', open)(__file__) if os.path.exists(__file__) else io.StringIO('\"'\"'from setuptools import setup; setup()'\"'\"');code = f.read().replace('\"'\"'\\r\\n'\"'\"', '\"'\"'\\n'\"'\"');f.close();exec(compile(code, __file__, '\"'\"'exec'\"'\"'))' egg_info --egg-base 'C:\\Users\\13103\\AppData\\Local\\Temp\\pip-pip-egg-info-m3yxio0g'\n",
      "       cwd: C:\\Users\\13103\\AppData\\Local\\Temp\\pip-install-4fwk62qo\\fiona_1e23bbb1742340f0953ebdeee0a0ef86\\\n",
      "  Complete output (1 lines):\n",
      "  A GDAL API version must be specified. Provide a path to gdal-config using a GDAL_CONFIG environment variable or use a GDAL_VERSION environment variable.\n",
      "  ----------------------------------------\n",
      "WARNING: Discarding https://files.pythonhosted.org/packages/2a/bd/c1efc2680f338e5941121c776d6323af6b9698ac739e22ba523cee348a7f/Fiona-1.8.0.tar.gz#sha256=20141a9ece06daa7bb4333fba640c2fe39a49f8aca5492d1da8595d41e91844a (from https://pypi.org/simple/fiona/). Command errored out with exit status 1: python setup.py egg_info Check the logs for full command output.\n",
      "  ERROR: Command errored out with exit status 1:\n",
      "   command: 'C:\\ProgramData\\Anaconda3_ok\\python.exe' -u -c 'import io, os, sys, setuptools, tokenize; sys.argv[0] = '\"'\"'C:\\\\Users\\\\13103\\\\AppData\\\\Local\\\\Temp\\\\pip-install-4fwk62qo\\\\fiona_fceedfed17f74959a332d2423c0b1f57\\\\setup.py'\"'\"'; __file__='\"'\"'C:\\\\Users\\\\13103\\\\AppData\\\\Local\\\\Temp\\\\pip-install-4fwk62qo\\\\fiona_fceedfed17f74959a332d2423c0b1f57\\\\setup.py'\"'\"';f = getattr(tokenize, '\"'\"'open'\"'\"', open)(__file__) if os.path.exists(__file__) else io.StringIO('\"'\"'from setuptools import setup; setup()'\"'\"');code = f.read().replace('\"'\"'\\r\\n'\"'\"', '\"'\"'\\n'\"'\"');f.close();exec(compile(code, __file__, '\"'\"'exec'\"'\"'))' bdist_wheel -d 'C:\\Users\\13103\\AppData\\Local\\Temp\\pip-wheel-_0zheehv'\n",
      "       cwd: C:\\Users\\13103\\AppData\\Local\\Temp\\pip-install-4fwk62qo\\fiona_fceedfed17f74959a332d2423c0b1f57\\\n",
      "  Complete output (42 lines):\n",
      "  C:\\ProgramData\\Anaconda3_ok\\lib\\distutils\\dist.py:274: UserWarning: Unknown distribution option: 'metadata_version'\n",
      "    warnings.warn(msg)\n",
      "  C:\\ProgramData\\Anaconda3_ok\\lib\\distutils\\dist.py:274: UserWarning: Unknown distribution option: 'requires_python'\n",
      "    warnings.warn(msg)\n",
      "  C:\\ProgramData\\Anaconda3_ok\\lib\\distutils\\dist.py:274: UserWarning: Unknown distribution option: 'requires_external'\n",
      "    warnings.warn(msg)\n",
      "  running bdist_wheel\n",
      "  running build\n",
      "  running build_py\n",
      "  creating build\n",
      "  creating build\\lib.win-amd64-3.8\n",
      "  creating build\\lib.win-amd64-3.8\\fiona\n",
      "  copying .\\fiona\\collection.py -> build\\lib.win-amd64-3.8\\fiona\n",
      "  copying .\\fiona\\compat.py -> build\\lib.win-amd64-3.8\\fiona\n",
      "  copying .\\fiona\\crs.py -> build\\lib.win-amd64-3.8\\fiona\n",
      "  copying .\\fiona\\drvsupport.py -> build\\lib.win-amd64-3.8\\fiona\n",
      "  copying .\\fiona\\errors.py -> build\\lib.win-amd64-3.8\\fiona\n",
      "  copying .\\fiona\\inspector.py -> build\\lib.win-amd64-3.8\\fiona\n",
      "  copying .\\fiona\\rfc3339.py -> build\\lib.win-amd64-3.8\\fiona\n",
      "  copying .\\fiona\\tool.py -> build\\lib.win-amd64-3.8\\fiona\n",
      "  copying .\\fiona\\transform.py -> build\\lib.win-amd64-3.8\\fiona\n",
      "  copying .\\fiona\\__init__.py -> build\\lib.win-amd64-3.8\\fiona\n",
      "  creating build\\lib.win-amd64-3.8\\fiona\\fio\n",
      "  copying .\\fiona\\fio\\bounds.py -> build\\lib.win-amd64-3.8\\fiona\\fio\n",
      "  copying .\\fiona\\fio\\calc.py -> build\\lib.win-amd64-3.8\\fiona\\fio\n",
      "  copying .\\fiona\\fio\\cat.py -> build\\lib.win-amd64-3.8\\fiona\\fio\n",
      "  copying .\\fiona\\fio\\collect.py -> build\\lib.win-amd64-3.8\\fiona\\fio\n",
      "  copying .\\fiona\\fio\\distrib.py -> build\\lib.win-amd64-3.8\\fiona\\fio\n",
      "  copying .\\fiona\\fio\\dump.py -> build\\lib.win-amd64-3.8\\fiona\\fio\n",
      "  copying .\\fiona\\fio\\env.py -> build\\lib.win-amd64-3.8\\fiona\\fio\n",
      "  copying .\\fiona\\fio\\filter.py -> build\\lib.win-amd64-3.8\\fiona\\fio\n",
      "  copying .\\fiona\\fio\\helpers.py -> build\\lib.win-amd64-3.8\\fiona\\fio\n",
      "  copying .\\fiona\\fio\\info.py -> build\\lib.win-amd64-3.8\\fiona\\fio\n",
      "  copying .\\fiona\\fio\\insp.py -> build\\lib.win-amd64-3.8\\fiona\\fio\n",
      "  copying .\\fiona\\fio\\load.py -> build\\lib.win-amd64-3.8\\fiona\\fio\n",
      "  copying .\\fiona\\fio\\ls.py -> build\\lib.win-amd64-3.8\\fiona\\fio\n",
      "  copying .\\fiona\\fio\\main.py -> build\\lib.win-amd64-3.8\\fiona\\fio\n",
      "  copying .\\fiona\\fio\\options.py -> build\\lib.win-amd64-3.8\\fiona\\fio\n"
     ]
    },
    {
     "name": "stderr",
     "output_type": "stream",
     "text": [
      "  copying .\\fiona\\fio\\__init__.py -> build\\lib.win-amd64-3.8\\fiona\\fio\n",
      "  running build_ext\n",
      "  building 'fiona._transform' extension\n",
      "  error: Microsoft Visual C++ 14.0 or greater is required. Get it with \"Microsoft C++ Build Tools\": https://visualstudio.microsoft.com/visual-cpp-build-tools/\n",
      "  ----------------------------------------\n",
      "  ERROR: Failed building wheel for fiona\n",
      "WARNING: Ignoring invalid distribution -rllib3 (c:\\programdata\\anaconda3_ok\\lib\\site-packages)\n",
      "WARNING: Ignoring invalid distribution - (c:\\programdata\\anaconda3_ok\\lib\\site-packages)\n",
      "    ERROR: Command errored out with exit status 1:\n",
      "     command: 'C:\\ProgramData\\Anaconda3_ok\\python.exe' -u -c 'import io, os, sys, setuptools, tokenize; sys.argv[0] = '\"'\"'C:\\\\Users\\\\13103\\\\AppData\\\\Local\\\\Temp\\\\pip-install-4fwk62qo\\\\fiona_fceedfed17f74959a332d2423c0b1f57\\\\setup.py'\"'\"'; __file__='\"'\"'C:\\\\Users\\\\13103\\\\AppData\\\\Local\\\\Temp\\\\pip-install-4fwk62qo\\\\fiona_fceedfed17f74959a332d2423c0b1f57\\\\setup.py'\"'\"';f = getattr(tokenize, '\"'\"'open'\"'\"', open)(__file__) if os.path.exists(__file__) else io.StringIO('\"'\"'from setuptools import setup; setup()'\"'\"');code = f.read().replace('\"'\"'\\r\\n'\"'\"', '\"'\"'\\n'\"'\"');f.close();exec(compile(code, __file__, '\"'\"'exec'\"'\"'))' install --record 'C:\\Users\\13103\\AppData\\Local\\Temp\\pip-record-oileyiw9\\install-record.txt' --single-version-externally-managed --compile --install-headers 'C:\\ProgramData\\Anaconda3_ok\\Include\\fiona'\n",
      "         cwd: C:\\Users\\13103\\AppData\\Local\\Temp\\pip-install-4fwk62qo\\fiona_fceedfed17f74959a332d2423c0b1f57\\\n",
      "    Complete output (12 lines):\n",
      "    C:\\ProgramData\\Anaconda3_ok\\lib\\distutils\\dist.py:274: UserWarning: Unknown distribution option: 'metadata_version'\n",
      "      warnings.warn(msg)\n",
      "    C:\\ProgramData\\Anaconda3_ok\\lib\\distutils\\dist.py:274: UserWarning: Unknown distribution option: 'requires_python'\n",
      "      warnings.warn(msg)\n",
      "    C:\\ProgramData\\Anaconda3_ok\\lib\\distutils\\dist.py:274: UserWarning: Unknown distribution option: 'requires_external'\n",
      "      warnings.warn(msg)\n",
      "    running install\n",
      "    running build\n",
      "    running build_py\n",
      "    running build_ext\n",
      "    building 'fiona._transform' extension\n",
      "    error: Microsoft Visual C++ 14.0 or greater is required. Get it with \"Microsoft C++ Build Tools\": https://visualstudio.microsoft.com/visual-cpp-build-tools/\n",
      "    ----------------------------------------\n",
      "ERROR: Command errored out with exit status 1: 'C:\\ProgramData\\Anaconda3_ok\\python.exe' -u -c 'import io, os, sys, setuptools, tokenize; sys.argv[0] = '\"'\"'C:\\\\Users\\\\13103\\\\AppData\\\\Local\\\\Temp\\\\pip-install-4fwk62qo\\\\fiona_fceedfed17f74959a332d2423c0b1f57\\\\setup.py'\"'\"'; __file__='\"'\"'C:\\\\Users\\\\13103\\\\AppData\\\\Local\\\\Temp\\\\pip-install-4fwk62qo\\\\fiona_fceedfed17f74959a332d2423c0b1f57\\\\setup.py'\"'\"';f = getattr(tokenize, '\"'\"'open'\"'\"', open)(__file__) if os.path.exists(__file__) else io.StringIO('\"'\"'from setuptools import setup; setup()'\"'\"');code = f.read().replace('\"'\"'\\r\\n'\"'\"', '\"'\"'\\n'\"'\"');f.close();exec(compile(code, __file__, '\"'\"'exec'\"'\"'))' install --record 'C:\\Users\\13103\\AppData\\Local\\Temp\\pip-record-oileyiw9\\install-record.txt' --single-version-externally-managed --compile --install-headers 'C:\\ProgramData\\Anaconda3_ok\\Include\\fiona' Check the logs for full command output.\n",
      "WARNING: Ignoring invalid distribution -rllib3 (c:\\programdata\\anaconda3_ok\\lib\\site-packages)\n",
      "WARNING: Ignoring invalid distribution - (c:\\programdata\\anaconda3_ok\\lib\\site-packages)\n"
     ]
    }
   ],
   "source": [
    "!pip install geopandas"
   ]
  },
  {
   "cell_type": "code",
   "execution_count": 73,
   "metadata": {
    "id": "wLvXFiFwSpTr"
   },
   "outputs": [
    {
     "ename": "ModuleNotFoundError",
     "evalue": "No module named 'geopandas'",
     "output_type": "error",
     "traceback": [
      "\u001b[1;31m---------------------------------------------------------------------------\u001b[0m",
      "\u001b[1;31mModuleNotFoundError\u001b[0m                       Traceback (most recent call last)",
      "\u001b[1;32m<ipython-input-73-cb204c6d7e78>\u001b[0m in \u001b[0;36m<module>\u001b[1;34m\u001b[0m\n\u001b[1;32m----> 1\u001b[1;33m \u001b[1;32mimport\u001b[0m \u001b[0mgeopandas\u001b[0m \u001b[1;32mas\u001b[0m \u001b[0mgpd\u001b[0m\u001b[1;33m\u001b[0m\u001b[1;33m\u001b[0m\u001b[0m\n\u001b[0m\u001b[0;32m      2\u001b[0m \u001b[1;32mfrom\u001b[0m \u001b[0mshapely\u001b[0m\u001b[1;33m.\u001b[0m\u001b[0mgeometry\u001b[0m \u001b[1;32mimport\u001b[0m \u001b[0mPoint\u001b[0m\u001b[1;33m,\u001b[0m \u001b[0mPolygon\u001b[0m\u001b[1;33m\u001b[0m\u001b[1;33m\u001b[0m\u001b[0m\n\u001b[0;32m      3\u001b[0m \u001b[1;32mimport\u001b[0m \u001b[0mmatplotlib\u001b[0m\u001b[1;33m.\u001b[0m\u001b[0mpyplot\u001b[0m \u001b[1;32mas\u001b[0m \u001b[0mplt\u001b[0m\u001b[1;33m\u001b[0m\u001b[1;33m\u001b[0m\u001b[0m\n",
      "\u001b[1;31mModuleNotFoundError\u001b[0m: No module named 'geopandas'"
     ]
    }
   ],
   "source": [
    "import geopandas as gpd\n",
    "from shapely.geometry import Point, Polygon\n",
    "import matplotlib.pyplot as plt"
   ]
  },
  {
   "cell_type": "code",
   "execution_count": null,
   "metadata": {
    "colab": {
     "base_uri": "https://localhost:8080/",
     "height": 265
    },
    "id": "Gfhj9HrcnMZi",
    "outputId": "c90fa114-7877-4afa-bf41-fc3b0efe59dd"
   },
   "outputs": [
    {
     "data": {
      "image/png": "[encoded data removed]",
      "text/plain": [
       "<Figure size 432x288 with 1 Axes>"
      ]
     },
     "metadata": {
      "needs_background": "light"
     },
     "output_type": "display_data"
    }
   ],
   "source": [
    "#scatter_plot = plt.scatter(dtlimpo['Longitude'], dtlimpo['Latitude'], alpha=0.5 )\n",
    "#plt.show()"
   ]
  },
  {
   "cell_type": "code",
   "execution_count": null,
   "metadata": {
    "colab": {
     "base_uri": "https://localhost:8080/",
     "height": 204
    },
    "id": "wVvEYIAep_Au",
    "outputId": "de5bf874-a599-4e61-e84e-7cc659ac1548"
   },
   "outputs": [
    {
     "data": {
      "text/html": [
       "<div>\n",
       "<style scoped>\n",
       "    .dataframe tbody tr th:only-of-type {\n",
       "        vertical-align: middle;\n",
       "    }\n",
       "\n",
       "    .dataframe tbody tr th {\n",
       "        vertical-align: top;\n",
       "    }\n",
       "\n",
       "    .dataframe thead th {\n",
       "        text-align: right;\n",
       "    }\n",
       "</style>\n",
       "<table border=\"1\" class=\"dataframe\">\n",
       "  <thead>\n",
       "    <tr style=\"text-align: right;\">\n",
       "      <th></th>\n",
       "      <th>Endereço</th>\n",
       "      <th>Condomínio</th>\n",
       "      <th>Vagas</th>\n",
       "      <th>Preço</th>\n",
       "      <th>Quarto</th>\n",
       "      <th>M2</th>\n",
       "      <th>Latitude</th>\n",
       "      <th>Longitude</th>\n",
       "    </tr>\n",
       "  </thead>\n",
       "  <tbody>\n",
       "    <tr>\n",
       "      <th>0</th>\n",
       "      <td>Rua Curitiba 224</td>\n",
       "      <td>0</td>\n",
       "      <td>0</td>\n",
       "      <td>4000000</td>\n",
       "      <td>0</td>\n",
       "      <td>45</td>\n",
       "      <td>-199.122.312</td>\n",
       "      <td>-439.396.634</td>\n",
       "    </tr>\n",
       "    <tr>\n",
       "      <th>1</th>\n",
       "      <td>Rua Santissimo 40</td>\n",
       "      <td>600</td>\n",
       "      <td>2</td>\n",
       "      <td>490000</td>\n",
       "      <td>3</td>\n",
       "      <td>100</td>\n",
       "      <td>-19.901.892</td>\n",
       "      <td>-439.735.209</td>\n",
       "    </tr>\n",
       "    <tr>\n",
       "      <th>2</th>\n",
       "      <td>Rua Joaquim Linhares 555</td>\n",
       "      <td>500</td>\n",
       "      <td>2</td>\n",
       "      <td>650000</td>\n",
       "      <td>2</td>\n",
       "      <td>100</td>\n",
       "      <td>-199.500.206</td>\n",
       "      <td>-439.260.666</td>\n",
       "    </tr>\n",
       "    <tr>\n",
       "      <th>3</th>\n",
       "      <td>Rua Moreira Antunes</td>\n",
       "      <td>0</td>\n",
       "      <td>0</td>\n",
       "      <td>200000</td>\n",
       "      <td>2</td>\n",
       "      <td>100</td>\n",
       "      <td>-198.336.238</td>\n",
       "      <td>-438.714.023</td>\n",
       "    </tr>\n",
       "    <tr>\n",
       "      <th>4</th>\n",
       "      <td>Rua Juvenal Melo Senra 409</td>\n",
       "      <td>1090</td>\n",
       "      <td>3</td>\n",
       "      <td>895000</td>\n",
       "      <td>3</td>\n",
       "      <td>100</td>\n",
       "      <td>-199.726.191</td>\n",
       "      <td>-439.383.825</td>\n",
       "    </tr>\n",
       "  </tbody>\n",
       "</table>\n",
       "</div>"
      ],
      "text/plain": [
       "                     Endereço  Condomínio  ...      Latitude     Longitude\n",
       "0            Rua Curitiba 224           0  ...  -199.122.312  -439.396.634\n",
       "1           Rua Santissimo 40         600  ...   -19.901.892  -439.735.209\n",
       "2    Rua Joaquim Linhares 555         500  ...  -199.500.206  -439.260.666\n",
       "3         Rua Moreira Antunes           0  ...  -198.336.238  -438.714.023\n",
       "4  Rua Juvenal Melo Senra 409        1090  ...  -199.726.191  -439.383.825\n",
       "\n",
       "[5 rows x 8 columns]"
      ]
     },
     "execution_count": 66,
     "metadata": {},
     "output_type": "execute_result"
    }
   ],
   "source": [
    "dtlimpo.head()"
   ]
  },
  {
   "cell_type": "code",
   "execution_count": null,
   "metadata": {
    "colab": {
     "base_uri": "https://localhost:8080/",
     "height": 290
    },
    "id": "y0pIpS7PpJ4h",
    "outputId": "b22cd141-3886-49a4-edc3-96f86365cdfb"
   },
   "outputs": [
    {
     "data": {
      "image/png": "[encoded data removed]",
      "text/plain": [
       "<Figure size 432x288 with 1 Axes>"
      ]
     },
     "metadata": {
      "needs_background": "light"
     },
     "output_type": "display_data"
    }
   ],
   "source": [
    "# Pontos do Gráfico na côr Preta (c = 'k')\n",
    "plt.scatter(dtlimpo['Preço'], dtlimpo['M2'], c='k')\n",
    "\n",
    "plt.xlabel(\"Preços em Real\")\n",
    "plt.ylabel(\"Área em metros quadrados\")\n",
    "\n",
    "plt.show()"
   ]
  }
 ],
 "metadata": {
  "colab": {
   "name": "Cópia de modulo8.ipynb",
   "provenance": []
  },
  "kernelspec": {
   "display_name": "Python 3",
   "language": "python",
   "name": "python3"
  },
  "language_info": {
   "codemirror_mode": {
    "name": "ipython",
    "version": 3
   },
   "file_extension": ".py",
   "mimetype": "text/x-python",
   "name": "python",
   "nbconvert_exporter": "python",
   "pygments_lexer": "ipython3",
   "version": "3.8.5"
  }
 },
 "nbformat": 4,
 "nbformat_minor": 1
}
